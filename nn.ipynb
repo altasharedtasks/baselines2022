{
 "cells": [
  {
   "cell_type": "markdown",
   "metadata": {},
   "source": [
    "# Neural Networks baseline"
   ]
  },
  {
   "cell_type": "code",
   "execution_count": 1,
   "metadata": {},
   "outputs": [],
   "source": [
    "%matplotlib inline\n",
    "import pandas as pd\n",
    "from matplotlib import pyplot as plt"
   ]
  },
  {
   "cell_type": "code",
   "execution_count": 2,
   "metadata": {},
   "outputs": [
    {
     "data": {
      "text/html": [
       "<div>\n",
       "<style scoped>\n",
       "    .dataframe tbody tr th:only-of-type {\n",
       "        vertical-align: middle;\n",
       "    }\n",
       "\n",
       "    .dataframe tbody tr th {\n",
       "        vertical-align: top;\n",
       "    }\n",
       "\n",
       "    .dataframe thead th {\n",
       "        text-align: right;\n",
       "    }\n",
       "</style>\n",
       "<table border=\"1\" class=\"dataframe\">\n",
       "  <thead>\n",
       "    <tr style=\"text-align: right;\">\n",
       "      <th></th>\n",
       "      <th>Document</th>\n",
       "      <th>Sentence</th>\n",
       "      <th>population</th>\n",
       "      <th>intervention</th>\n",
       "      <th>background</th>\n",
       "      <th>outcome</th>\n",
       "      <th>study design</th>\n",
       "      <th>other</th>\n",
       "      <th>Text</th>\n",
       "    </tr>\n",
       "  </thead>\n",
       "  <tbody>\n",
       "    <tr>\n",
       "      <th>0</th>\n",
       "      <td>145506</td>\n",
       "      <td>1</td>\n",
       "      <td>0</td>\n",
       "      <td>0</td>\n",
       "      <td>1</td>\n",
       "      <td>0</td>\n",
       "      <td>0</td>\n",
       "      <td>0</td>\n",
       "      <td>The rare liquor leakage syndrome with cranial ...</td>\n",
       "    </tr>\n",
       "    <tr>\n",
       "      <th>1</th>\n",
       "      <td>145506</td>\n",
       "      <td>2</td>\n",
       "      <td>0</td>\n",
       "      <td>0</td>\n",
       "      <td>1</td>\n",
       "      <td>0</td>\n",
       "      <td>0</td>\n",
       "      <td>0</td>\n",
       "      <td>This does not occur after a suboccipital punct...</td>\n",
       "    </tr>\n",
       "    <tr>\n",
       "      <th>2</th>\n",
       "      <td>145506</td>\n",
       "      <td>3</td>\n",
       "      <td>1</td>\n",
       "      <td>0</td>\n",
       "      <td>0</td>\n",
       "      <td>0</td>\n",
       "      <td>0</td>\n",
       "      <td>0</td>\n",
       "      <td>A report is given on three cases with differen...</td>\n",
       "    </tr>\n",
       "    <tr>\n",
       "      <th>3</th>\n",
       "      <td>145506</td>\n",
       "      <td>4</td>\n",
       "      <td>0</td>\n",
       "      <td>0</td>\n",
       "      <td>0</td>\n",
       "      <td>1</td>\n",
       "      <td>0</td>\n",
       "      <td>0</td>\n",
       "      <td>The prognosis of the eye-muscle paresis is good.</td>\n",
       "    </tr>\n",
       "    <tr>\n",
       "      <th>4</th>\n",
       "      <td>145506</td>\n",
       "      <td>5</td>\n",
       "      <td>0</td>\n",
       "      <td>0</td>\n",
       "      <td>0</td>\n",
       "      <td>1</td>\n",
       "      <td>0</td>\n",
       "      <td>0</td>\n",
       "      <td>Restitutio ad integrum resulted.</td>\n",
       "    </tr>\n",
       "  </tbody>\n",
       "</table>\n",
       "</div>"
      ],
      "text/plain": [
       "   Document  Sentence  population  intervention  background  outcome  \\\n",
       "0    145506         1           0             0           1        0   \n",
       "1    145506         2           0             0           1        0   \n",
       "2    145506         3           1             0           0        0   \n",
       "3    145506         4           0             0           0        1   \n",
       "4    145506         5           0             0           0        1   \n",
       "\n",
       "   study design  other                                               Text  \n",
       "0             0      0  The rare liquor leakage syndrome with cranial ...  \n",
       "1             0      0  This does not occur after a suboccipital punct...  \n",
       "2             0      0  A report is given on three cases with differen...  \n",
       "3             0      0   The prognosis of the eye-muscle paresis is good.  \n",
       "4             0      0                   Restitutio ad integrum resulted.  "
      ]
     },
     "execution_count": 2,
     "metadata": {},
     "output_type": "execute_result"
    }
   ],
   "source": [
    "train_pd = pd.read_csv(\"train_2022.csv\")\n",
    "train_pd.head()"
   ]
  },
  {
   "cell_type": "code",
   "execution_count": 3,
   "metadata": {},
   "outputs": [
    {
     "name": "stdout",
     "output_type": "stream",
     "text": [
      "[584, 501, 1777, 3192, 167, 2424]\n"
     ]
    }
   ],
   "source": [
    "labels = ['population','intervention','background','outcome','study design','other']\n",
    "label_counts = []\n",
    "for l in labels:\n",
    "    counts = train_pd[l].sum()\n",
    "    label_counts.append(counts)\n",
    "print(label_counts)"
   ]
  },
  {
   "cell_type": "code",
   "execution_count": 4,
   "metadata": {},
   "outputs": [
    {
     "data": {
      "image/png": "[encoded data removed]",
      "text/plain": [
       "<Figure size 864x432 with 1 Axes>"
      ]
     },
     "metadata": {
      "needs_background": "light"
     },
     "output_type": "display_data"
    }
   ],
   "source": [
    "plt.figure(figsize=(12,6))\n",
    "plt.bar(range(6), label_counts)\n",
    "plt.xticks(range(6), labels)\n",
    "plt.show()"
   ]
  },
  {
   "cell_type": "code",
   "execution_count": 5,
   "metadata": {},
   "outputs": [
    {
     "data": {
      "text/plain": [
       "8216"
      ]
     },
     "execution_count": 5,
     "metadata": {},
     "output_type": "execute_result"
    }
   ],
   "source": [
    "n=len(train_pd)\n",
    "n"
   ]
  },
  {
   "cell_type": "markdown",
   "metadata": {},
   "source": [
    "## Neural Networks\n",
    "\n",
    "The following code trains a simple neural network that uses an output layer with a sigmoid activation function. "
   ]
  },
  {
   "cell_type": "code",
   "execution_count": 6,
   "metadata": {},
   "outputs": [
    {
     "name": "stdout",
     "output_type": "stream",
     "text": [
      "Model: \"sequential\"\n",
      "_________________________________________________________________\n",
      "Layer (type)                 Output Shape              Param #   \n",
      "=================================================================\n",
      "dense (Dense)                (None, 6)                 60006     \n",
      "=================================================================\n",
      "Total params: 60,006\n",
      "Trainable params: 60,006\n",
      "Non-trainable params: 0\n",
      "_________________________________________________________________\n"
     ]
    }
   ],
   "source": [
    "from sklearn.feature_extraction.text import TfidfVectorizer\n",
    "from tensorflow.keras import models, layers\n",
    "\n",
    "labels = ['population','intervention','background','outcome','study design','other']\n",
    "nb = dict()\n",
    "\n",
    "tfidf = TfidfVectorizer(input='contents', max_features=10000)\n",
    "train_tfidf = tfidf.fit_transform(train_pd['Text']).toarray()\n",
    "\n",
    "simple_nn = models.Sequential()\n",
    "simple_nn.add(layers.Dense(6, activation='sigmoid', input_shape=(len(tfidf.get_feature_names()),)))\n",
    "simple_nn.summary()"
   ]
  },
  {
   "cell_type": "code",
   "execution_count": 7,
   "metadata": {},
   "outputs": [],
   "source": [
    "simple_nn.compile(optimizer='rmsprop',\n",
    "                  loss='binary_crossentropy',\n",
    "                  metrics=['accuracy'])"
   ]
  },
  {
   "cell_type": "code",
   "execution_count": 8,
   "metadata": {},
   "outputs": [
    {
     "name": "stdout",
     "output_type": "stream",
     "text": [
      "Epoch 1/70\n",
      "206/206 [==============================] - 1s 5ms/step - loss: 0.6247 - accuracy: 0.5145 - val_loss: 0.5716 - val_accuracy: 0.5426\n",
      "Epoch 2/70\n",
      "206/206 [==============================] - 1s 4ms/step - loss: 0.5213 - accuracy: 0.5288 - val_loss: 0.4905 - val_accuracy: 0.5444\n",
      "Epoch 3/70\n",
      "206/206 [==============================] - 1s 4ms/step - loss: 0.4513 - accuracy: 0.5318 - val_loss: 0.4351 - val_accuracy: 0.5474\n",
      "Epoch 4/70\n",
      "206/206 [==============================] - 1s 4ms/step - loss: 0.4050 - accuracy: 0.5393 - val_loss: 0.3978 - val_accuracy: 0.5560\n",
      "Epoch 5/70\n",
      "206/206 [==============================] - 1s 4ms/step - loss: 0.3740 - accuracy: 0.5482 - val_loss: 0.3724 - val_accuracy: 0.5706\n",
      "Epoch 6/70\n",
      "206/206 [==============================] - 1s 4ms/step - loss: 0.3524 - accuracy: 0.5659 - val_loss: 0.3546 - val_accuracy: 0.5773\n",
      "Epoch 7/70\n",
      "206/206 [==============================] - 1s 5ms/step - loss: 0.3369 - accuracy: 0.5844 - val_loss: 0.3419 - val_accuracy: 0.5864\n",
      "Epoch 8/70\n",
      "206/206 [==============================] - 1s 4ms/step - loss: 0.3250 - accuracy: 0.6044 - val_loss: 0.3322 - val_accuracy: 0.5906\n",
      "Epoch 9/70\n",
      "206/206 [==============================] - 1s 4ms/step - loss: 0.3152 - accuracy: 0.6240 - val_loss: 0.3245 - val_accuracy: 0.6022\n",
      "Epoch 10/70\n",
      "206/206 [==============================] - 1s 5ms/step - loss: 0.3067 - accuracy: 0.6444 - val_loss: 0.3180 - val_accuracy: 0.6131\n",
      "Epoch 11/70\n",
      "206/206 [==============================] - 1s 4ms/step - loss: 0.2991 - accuracy: 0.6630 - val_loss: 0.3123 - val_accuracy: 0.6210\n",
      "Epoch 12/70\n",
      "206/206 [==============================] - 1s 5ms/step - loss: 0.2922 - accuracy: 0.6707 - val_loss: 0.3073 - val_accuracy: 0.6217\n",
      "Epoch 13/70\n",
      "206/206 [==============================] - 1s 4ms/step - loss: 0.2858 - accuracy: 0.6855 - val_loss: 0.3027 - val_accuracy: 0.6253\n",
      "Epoch 14/70\n",
      "206/206 [==============================] - 1s 4ms/step - loss: 0.2799 - accuracy: 0.6960 - val_loss: 0.2986 - val_accuracy: 0.6277\n",
      "Epoch 15/70\n",
      "206/206 [==============================] - 1s 4ms/step - loss: 0.2743 - accuracy: 0.7025 - val_loss: 0.2949 - val_accuracy: 0.6332\n",
      "Epoch 16/70\n",
      "206/206 [==============================] - 1s 5ms/step - loss: 0.2691 - accuracy: 0.7088 - val_loss: 0.2915 - val_accuracy: 0.6356\n",
      "Epoch 17/70\n",
      "206/206 [==============================] - 1s 4ms/step - loss: 0.2643 - accuracy: 0.7139 - val_loss: 0.2882 - val_accuracy: 0.6393\n",
      "Epoch 18/70\n",
      "206/206 [==============================] - 1s 4ms/step - loss: 0.2596 - accuracy: 0.7177 - val_loss: 0.2853 - val_accuracy: 0.6423\n",
      "Epoch 19/70\n",
      "206/206 [==============================] - 1s 4ms/step - loss: 0.2553 - accuracy: 0.7235 - val_loss: 0.2826 - val_accuracy: 0.6484\n",
      "Epoch 20/70\n",
      "206/206 [==============================] - 1s 4ms/step - loss: 0.2512 - accuracy: 0.7282 - val_loss: 0.2802 - val_accuracy: 0.6502\n",
      "Epoch 21/70\n",
      "206/206 [==============================] - 1s 4ms/step - loss: 0.2472 - accuracy: 0.7372 - val_loss: 0.2778 - val_accuracy: 0.6521\n",
      "Epoch 22/70\n",
      "206/206 [==============================] - 1s 4ms/step - loss: 0.2436 - accuracy: 0.7419 - val_loss: 0.2757 - val_accuracy: 0.6551\n",
      "Epoch 23/70\n",
      "206/206 [==============================] - 1s 4ms/step - loss: 0.2401 - accuracy: 0.7459 - val_loss: 0.2737 - val_accuracy: 0.6588\n",
      "Epoch 24/70\n",
      "206/206 [==============================] - 1s 5ms/step - loss: 0.2368 - accuracy: 0.7543 - val_loss: 0.2719 - val_accuracy: 0.6624\n",
      "Epoch 25/70\n",
      "206/206 [==============================] - 1s 4ms/step - loss: 0.2336 - accuracy: 0.7555 - val_loss: 0.2702 - val_accuracy: 0.6630\n",
      "Epoch 26/70\n",
      "206/206 [==============================] - 1s 4ms/step - loss: 0.2306 - accuracy: 0.7617 - val_loss: 0.2686 - val_accuracy: 0.6667\n",
      "Epoch 27/70\n",
      "206/206 [==============================] - 1s 5ms/step - loss: 0.2277 - accuracy: 0.7658 - val_loss: 0.2671 - val_accuracy: 0.6679\n",
      "Epoch 28/70\n",
      "206/206 [==============================] - 1s 5ms/step - loss: 0.2249 - accuracy: 0.7689 - val_loss: 0.2657 - val_accuracy: 0.6721\n",
      "Epoch 29/70\n",
      "206/206 [==============================] - 1s 5ms/step - loss: 0.2224 - accuracy: 0.7718 - val_loss: 0.2645 - val_accuracy: 0.6740\n",
      "Epoch 30/70\n",
      "206/206 [==============================] - 1s 5ms/step - loss: 0.2198 - accuracy: 0.7762 - val_loss: 0.2633 - val_accuracy: 0.6776\n",
      "Epoch 31/70\n",
      "206/206 [==============================] - 1s 5ms/step - loss: 0.2173 - accuracy: 0.7801 - val_loss: 0.2622 - val_accuracy: 0.6788\n",
      "Epoch 32/70\n",
      "206/206 [==============================] - 1s 4ms/step - loss: 0.2151 - accuracy: 0.7823 - val_loss: 0.2612 - val_accuracy: 0.6800\n",
      "Epoch 33/70\n",
      "206/206 [==============================] - 1s 4ms/step - loss: 0.2128 - accuracy: 0.7867 - val_loss: 0.2603 - val_accuracy: 0.6807\n",
      "Epoch 34/70\n",
      "206/206 [==============================] - 1s 5ms/step - loss: 0.2107 - accuracy: 0.7897 - val_loss: 0.2593 - val_accuracy: 0.6819\n",
      "Epoch 35/70\n",
      "206/206 [==============================] - 1s 5ms/step - loss: 0.2087 - accuracy: 0.7917 - val_loss: 0.2584 - val_accuracy: 0.6837\n",
      "Epoch 36/70\n",
      "206/206 [==============================] - 1s 4ms/step - loss: 0.2067 - accuracy: 0.7953 - val_loss: 0.2577 - val_accuracy: 0.6837\n",
      "Epoch 37/70\n",
      "206/206 [==============================] - 1s 4ms/step - loss: 0.2048 - accuracy: 0.7984 - val_loss: 0.2569 - val_accuracy: 0.6855\n",
      "Epoch 38/70\n",
      "206/206 [==============================] - 1s 4ms/step - loss: 0.2029 - accuracy: 0.8013 - val_loss: 0.2561 - val_accuracy: 0.6867\n",
      "Epoch 39/70\n",
      "206/206 [==============================] - 1s 4ms/step - loss: 0.2012 - accuracy: 0.8037 - val_loss: 0.2555 - val_accuracy: 0.6880\n",
      "Epoch 40/70\n",
      "206/206 [==============================] - 1s 5ms/step - loss: 0.1994 - accuracy: 0.8055 - val_loss: 0.2550 - val_accuracy: 0.6886\n",
      "Epoch 41/70\n",
      "206/206 [==============================] - 1s 4ms/step - loss: 0.1978 - accuracy: 0.8072 - val_loss: 0.2544 - val_accuracy: 0.6880\n",
      "Epoch 42/70\n",
      "206/206 [==============================] - 1s 4ms/step - loss: 0.1962 - accuracy: 0.8087 - val_loss: 0.2539 - val_accuracy: 0.6886\n",
      "Epoch 43/70\n",
      "206/206 [==============================] - 1s 4ms/step - loss: 0.1946 - accuracy: 0.8118 - val_loss: 0.2533 - val_accuracy: 0.6892\n",
      "Epoch 44/70\n",
      "206/206 [==============================] - 1s 5ms/step - loss: 0.1931 - accuracy: 0.8128 - val_loss: 0.2529 - val_accuracy: 0.6892\n",
      "Epoch 45/70\n",
      "206/206 [==============================] - 1s 4ms/step - loss: 0.1917 - accuracy: 0.8138 - val_loss: 0.2524 - val_accuracy: 0.6892\n",
      "Epoch 46/70\n",
      "206/206 [==============================] - 1s 4ms/step - loss: 0.1902 - accuracy: 0.8150 - val_loss: 0.2521 - val_accuracy: 0.6892\n",
      "Epoch 47/70\n",
      "206/206 [==============================] - 1s 4ms/step - loss: 0.1888 - accuracy: 0.8162 - val_loss: 0.2517 - val_accuracy: 0.6910\n",
      "Epoch 48/70\n",
      "206/206 [==============================] - 1s 4ms/step - loss: 0.1875 - accuracy: 0.8182 - val_loss: 0.2514 - val_accuracy: 0.6916\n",
      "Epoch 49/70\n",
      "206/206 [==============================] - 1s 4ms/step - loss: 0.1862 - accuracy: 0.8200 - val_loss: 0.2511 - val_accuracy: 0.6910\n",
      "Epoch 50/70\n",
      "206/206 [==============================] - 1s 5ms/step - loss: 0.1849 - accuracy: 0.8206 - val_loss: 0.2507 - val_accuracy: 0.6916\n",
      "Epoch 51/70\n",
      "206/206 [==============================] - 1s 4ms/step - loss: 0.1837 - accuracy: 0.8218 - val_loss: 0.2504 - val_accuracy: 0.6916\n",
      "Epoch 52/70\n",
      "206/206 [==============================] - 1s 5ms/step - loss: 0.1825 - accuracy: 0.8238 - val_loss: 0.2502 - val_accuracy: 0.6922\n",
      "Epoch 53/70\n",
      "206/206 [==============================] - 1s 5ms/step - loss: 0.1813 - accuracy: 0.8256 - val_loss: 0.2500 - val_accuracy: 0.6928\n",
      "Epoch 54/70\n",
      "206/206 [==============================] - 1s 5ms/step - loss: 0.1801 - accuracy: 0.8274 - val_loss: 0.2498 - val_accuracy: 0.6922\n",
      "Epoch 55/70\n",
      "206/206 [==============================] - 1s 5ms/step - loss: 0.1790 - accuracy: 0.8288 - val_loss: 0.2496 - val_accuracy: 0.6934\n",
      "Epoch 56/70\n",
      "206/206 [==============================] - 1s 4ms/step - loss: 0.1779 - accuracy: 0.8305 - val_loss: 0.2494 - val_accuracy: 0.6934\n",
      "Epoch 57/70\n",
      "206/206 [==============================] - 1s 5ms/step - loss: 0.1768 - accuracy: 0.8305 - val_loss: 0.2492 - val_accuracy: 0.6934\n",
      "Epoch 58/70\n",
      "206/206 [==============================] - 1s 5ms/step - loss: 0.1758 - accuracy: 0.8322 - val_loss: 0.2491 - val_accuracy: 0.6946\n",
      "Epoch 59/70\n",
      "206/206 [==============================] - 1s 5ms/step - loss: 0.1748 - accuracy: 0.8323 - val_loss: 0.2490 - val_accuracy: 0.6928\n",
      "Epoch 60/70\n",
      "206/206 [==============================] - 1s 4ms/step - loss: 0.1737 - accuracy: 0.8332 - val_loss: 0.2489 - val_accuracy: 0.6946\n",
      "Epoch 61/70\n",
      "206/206 [==============================] - 1s 5ms/step - loss: 0.1727 - accuracy: 0.8343 - val_loss: 0.2487 - val_accuracy: 0.6940\n",
      "Epoch 62/70\n",
      "206/206 [==============================] - 1s 4ms/step - loss: 0.1718 - accuracy: 0.8343 - val_loss: 0.2487 - val_accuracy: 0.6946\n",
      "Epoch 63/70\n",
      "206/206 [==============================] - 1s 4ms/step - loss: 0.1708 - accuracy: 0.8357 - val_loss: 0.2486 - val_accuracy: 0.6953\n",
      "Epoch 64/70\n",
      "206/206 [==============================] - 1s 4ms/step - loss: 0.1699 - accuracy: 0.8373 - val_loss: 0.2485 - val_accuracy: 0.6946\n",
      "Epoch 65/70\n",
      "206/206 [==============================] - 1s 4ms/step - loss: 0.1690 - accuracy: 0.8383 - val_loss: 0.2485 - val_accuracy: 0.6959\n",
      "Epoch 66/70\n",
      "206/206 [==============================] - 1s 5ms/step - loss: 0.1682 - accuracy: 0.8392 - val_loss: 0.2484 - val_accuracy: 0.6959\n",
      "Epoch 67/70\n",
      "206/206 [==============================] - 1s 4ms/step - loss: 0.1673 - accuracy: 0.8401 - val_loss: 0.2483 - val_accuracy: 0.6946\n",
      "Epoch 68/70\n",
      "206/206 [==============================] - 1s 5ms/step - loss: 0.1664 - accuracy: 0.8405 - val_loss: 0.2483 - val_accuracy: 0.6953\n",
      "Epoch 69/70\n",
      "206/206 [==============================] - 1s 5ms/step - loss: 0.1656 - accuracy: 0.8414 - val_loss: 0.2483 - val_accuracy: 0.6959\n",
      "Epoch 70/70\n",
      "206/206 [==============================] - 1s 5ms/step - loss: 0.1648 - accuracy: 0.8424 - val_loss: 0.2483 - val_accuracy: 0.6977\n"
     ]
    }
   ],
   "source": [
    "from random import shuffle\n",
    "import numpy as np\n",
    "history=simple_nn.fit(train_tfidf,\n",
    "                      np.array(train_pd[labels]),\n",
    "                      epochs=70,\n",
    "                      batch_size=32,\n",
    "                      validation_split=0.2)"
   ]
  },
  {
   "cell_type": "code",
   "execution_count": 9,
   "metadata": {},
   "outputs": [
    {
     "data": {
      "image/png": "[encoded data removed]",
      "text/plain": [
       "<Figure size 432x288 with 1 Axes>"
      ]
     },
     "metadata": {
      "needs_background": "light"
     },
     "output_type": "display_data"
    }
   ],
   "source": [
    "loss = history.history['loss']\n",
    "val_loss = history.history['val_loss']\n",
    "\n",
    "epochs = range(1, len(loss) + 1)\n",
    "\n",
    "plt.plot(epochs, loss, 'bo', label='Training loss')\n",
    "plt.plot(epochs, val_loss, 'b', label='Validation loss')\n",
    "plt.title('Training and validation loss')\n",
    "plt.xlabel('Epochs')\n",
    "plt.ylabel('Loss')\n",
    "plt.legend()\n",
    "\n",
    "plt.show()"
   ]
  },
  {
   "cell_type": "markdown",
   "metadata": {},
   "source": [
    "The following code applies the Naive Bayes models to the test data, and saves the result in a CSV file for submission."
   ]
  },
  {
   "cell_type": "code",
   "execution_count": 10,
   "metadata": {},
   "outputs": [
    {
     "data": {
      "text/html": [
       "<div>\n",
       "<style scoped>\n",
       "    .dataframe tbody tr th:only-of-type {\n",
       "        vertical-align: middle;\n",
       "    }\n",
       "\n",
       "    .dataframe tbody tr th {\n",
       "        vertical-align: top;\n",
       "    }\n",
       "\n",
       "    .dataframe thead th {\n",
       "        text-align: right;\n",
       "    }\n",
       "</style>\n",
       "<table border=\"1\" class=\"dataframe\">\n",
       "  <thead>\n",
       "    <tr style=\"text-align: right;\">\n",
       "      <th></th>\n",
       "      <th>Document</th>\n",
       "      <th>Sentence</th>\n",
       "      <th>population</th>\n",
       "      <th>intervention</th>\n",
       "      <th>background</th>\n",
       "      <th>outcome</th>\n",
       "      <th>study design</th>\n",
       "      <th>other</th>\n",
       "      <th>Text</th>\n",
       "    </tr>\n",
       "  </thead>\n",
       "  <tbody>\n",
       "    <tr>\n",
       "      <th>0</th>\n",
       "      <td>2545507</td>\n",
       "      <td>1</td>\n",
       "      <td>NaN</td>\n",
       "      <td>NaN</td>\n",
       "      <td>NaN</td>\n",
       "      <td>NaN</td>\n",
       "      <td>NaN</td>\n",
       "      <td>NaN</td>\n",
       "      <td>1</td>\n",
       "    </tr>\n",
       "    <tr>\n",
       "      <th>1</th>\n",
       "      <td>2545507</td>\n",
       "      <td>2</td>\n",
       "      <td>NaN</td>\n",
       "      <td>NaN</td>\n",
       "      <td>NaN</td>\n",
       "      <td>NaN</td>\n",
       "      <td>NaN</td>\n",
       "      <td>NaN</td>\n",
       "      <td>Field electrical stimulation elicited an incre...</td>\n",
       "    </tr>\n",
       "    <tr>\n",
       "      <th>2</th>\n",
       "      <td>2545507</td>\n",
       "      <td>3</td>\n",
       "      <td>NaN</td>\n",
       "      <td>NaN</td>\n",
       "      <td>NaN</td>\n",
       "      <td>NaN</td>\n",
       "      <td>NaN</td>\n",
       "      <td>NaN</td>\n",
       "      <td>2</td>\n",
       "    </tr>\n",
       "    <tr>\n",
       "      <th>3</th>\n",
       "      <td>2545507</td>\n",
       "      <td>4</td>\n",
       "      <td>NaN</td>\n",
       "      <td>NaN</td>\n",
       "      <td>NaN</td>\n",
       "      <td>NaN</td>\n",
       "      <td>NaN</td>\n",
       "      <td>NaN</td>\n",
       "      <td>This efflux was: (a) reduced by clonidine, NA ...</td>\n",
       "    </tr>\n",
       "    <tr>\n",
       "      <th>4</th>\n",
       "      <td>2545507</td>\n",
       "      <td>5</td>\n",
       "      <td>NaN</td>\n",
       "      <td>NaN</td>\n",
       "      <td>NaN</td>\n",
       "      <td>NaN</td>\n",
       "      <td>NaN</td>\n",
       "      <td>NaN</td>\n",
       "      <td>3</td>\n",
       "    </tr>\n",
       "  </tbody>\n",
       "</table>\n",
       "</div>"
      ],
      "text/plain": [
       "   Document  Sentence  population  intervention  background  outcome  \\\n",
       "0   2545507         1         NaN           NaN         NaN      NaN   \n",
       "1   2545507         2         NaN           NaN         NaN      NaN   \n",
       "2   2545507         3         NaN           NaN         NaN      NaN   \n",
       "3   2545507         4         NaN           NaN         NaN      NaN   \n",
       "4   2545507         5         NaN           NaN         NaN      NaN   \n",
       "\n",
       "   study design  other                                               Text  \n",
       "0           NaN    NaN                                                  1  \n",
       "1           NaN    NaN  Field electrical stimulation elicited an incre...  \n",
       "2           NaN    NaN                                                  2  \n",
       "3           NaN    NaN  This efflux was: (a) reduced by clonidine, NA ...  \n",
       "4           NaN    NaN                                                  3  "
      ]
     },
     "execution_count": 10,
     "metadata": {},
     "output_type": "execute_result"
    }
   ],
   "source": [
    "test_pd = pd.read_csv(\"val_2022.csv\")\n",
    "test_pd.head()"
   ]
  },
  {
   "cell_type": "code",
   "execution_count": 11,
   "metadata": {},
   "outputs": [
    {
     "data": {
      "text/html": [
       "<div>\n",
       "<style scoped>\n",
       "    .dataframe tbody tr th:only-of-type {\n",
       "        vertical-align: middle;\n",
       "    }\n",
       "\n",
       "    .dataframe tbody tr th {\n",
       "        vertical-align: top;\n",
       "    }\n",
       "\n",
       "    .dataframe thead th {\n",
       "        text-align: right;\n",
       "    }\n",
       "</style>\n",
       "<table border=\"1\" class=\"dataframe\">\n",
       "  <thead>\n",
       "    <tr style=\"text-align: right;\">\n",
       "      <th></th>\n",
       "      <th>Document</th>\n",
       "      <th>Sentence</th>\n",
       "      <th>population</th>\n",
       "      <th>intervention</th>\n",
       "      <th>background</th>\n",
       "      <th>outcome</th>\n",
       "      <th>study design</th>\n",
       "      <th>other</th>\n",
       "      <th>Text</th>\n",
       "    </tr>\n",
       "  </thead>\n",
       "  <tbody>\n",
       "    <tr>\n",
       "      <th>0</th>\n",
       "      <td>2545507</td>\n",
       "      <td>1</td>\n",
       "      <td>0.403326</td>\n",
       "      <td>0.509050</td>\n",
       "      <td>0.412126</td>\n",
       "      <td>0.340557</td>\n",
       "      <td>0.415137</td>\n",
       "      <td>0.831566</td>\n",
       "      <td>1</td>\n",
       "    </tr>\n",
       "    <tr>\n",
       "      <th>1</th>\n",
       "      <td>2545507</td>\n",
       "      <td>2</td>\n",
       "      <td>0.070197</td>\n",
       "      <td>0.078836</td>\n",
       "      <td>0.224854</td>\n",
       "      <td>0.487203</td>\n",
       "      <td>0.006018</td>\n",
       "      <td>0.045046</td>\n",
       "      <td>Field electrical stimulation elicited an incre...</td>\n",
       "    </tr>\n",
       "    <tr>\n",
       "      <th>2</th>\n",
       "      <td>2545507</td>\n",
       "      <td>3</td>\n",
       "      <td>0.403326</td>\n",
       "      <td>0.509050</td>\n",
       "      <td>0.412126</td>\n",
       "      <td>0.340557</td>\n",
       "      <td>0.415137</td>\n",
       "      <td>0.831566</td>\n",
       "      <td>2</td>\n",
       "    </tr>\n",
       "    <tr>\n",
       "      <th>3</th>\n",
       "      <td>2545507</td>\n",
       "      <td>4</td>\n",
       "      <td>0.039184</td>\n",
       "      <td>0.394099</td>\n",
       "      <td>0.117134</td>\n",
       "      <td>0.770846</td>\n",
       "      <td>0.000190</td>\n",
       "      <td>0.030499</td>\n",
       "      <td>This efflux was: (a) reduced by clonidine, NA ...</td>\n",
       "    </tr>\n",
       "    <tr>\n",
       "      <th>4</th>\n",
       "      <td>2545507</td>\n",
       "      <td>5</td>\n",
       "      <td>0.403326</td>\n",
       "      <td>0.509050</td>\n",
       "      <td>0.412126</td>\n",
       "      <td>0.340557</td>\n",
       "      <td>0.415137</td>\n",
       "      <td>0.831566</td>\n",
       "      <td>3</td>\n",
       "    </tr>\n",
       "  </tbody>\n",
       "</table>\n",
       "</div>"
      ],
      "text/plain": [
       "   Document  Sentence  population  intervention  background   outcome  \\\n",
       "0   2545507         1    0.403326      0.509050    0.412126  0.340557   \n",
       "1   2545507         2    0.070197      0.078836    0.224854  0.487203   \n",
       "2   2545507         3    0.403326      0.509050    0.412126  0.340557   \n",
       "3   2545507         4    0.039184      0.394099    0.117134  0.770846   \n",
       "4   2545507         5    0.403326      0.509050    0.412126  0.340557   \n",
       "\n",
       "   study design     other                                               Text  \n",
       "0      0.415137  0.831566                                                  1  \n",
       "1      0.006018  0.045046  Field electrical stimulation elicited an incre...  \n",
       "2      0.415137  0.831566                                                  2  \n",
       "3      0.000190  0.030499  This efflux was: (a) reduced by clonidine, NA ...  \n",
       "4      0.415137  0.831566                                                  3  "
      ]
     },
     "execution_count": 11,
     "metadata": {},
     "output_type": "execute_result"
    }
   ],
   "source": [
    "test_tfidf = tfidf.transform(test_pd['Text']).toarray()\n",
    "test_probabilities = simple_nn.predict(test_tfidf)\n",
    "test_pd[labels] = test_probabilities\n",
    "test_pd.head()"
   ]
  },
  {
   "cell_type": "code",
   "execution_count": 12,
   "metadata": {},
   "outputs": [],
   "source": [
    "test_pd.to_csv('nn_val_2022_probabilities.csv', index=False)"
   ]
  },
  {
   "cell_type": "code",
   "execution_count": 13,
   "metadata": {},
   "outputs": [
    {
     "data": {
      "text/plain": [
       "<matplotlib.axes._subplots.AxesSubplot at 0x7f01fffe47f0>"
      ]
     },
     "execution_count": 13,
     "metadata": {},
     "output_type": "execute_result"
    },
    {
     "data": {
      "image/png": "[encoded data removed]",
      "text/plain": [
       "<Figure size 432x288 with 1 Axes>"
      ]
     },
     "metadata": {
      "needs_background": "light"
     },
     "output_type": "display_data"
    }
   ],
   "source": [
    "test_pd.boxplot(column=labels)"
   ]
  },
  {
   "cell_type": "code",
   "execution_count": null,
   "metadata": {},
   "outputs": [],
   "source": []
  }
 ],
 "metadata": {
  "kernelspec": {
   "display_name": "Python 3.8.3 ('base')",
   "language": "python",
   "name": "python3"
  },
  "language_info": {
   "codemirror_mode": {
    "name": "ipython",
    "version": 3
   },
   "file_extension": ".py",
   "mimetype": "text/x-python",
   "name": "python",
   "nbconvert_exporter": "python",
   "pygments_lexer": "ipython3",
   "version": "3.8.3"
  },
  "orig_nbformat": 4,
  "vscode": {
   "interpreter": {
    "hash": "c9c95a542e0787f57613780817cff22e65fe979e702b6d9a424a45d54043f1a4"
   }
  }
 },
 "nbformat": 4,
 "nbformat_minor": 2
}
