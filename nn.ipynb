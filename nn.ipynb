{
 "cells": [
  {
   "cell_type": "markdown",
   "metadata": {},
   "source": [
    "# Neural Networks baseline"
   ]
  },
  {
   "cell_type": "code",
   "execution_count": 1,
   "metadata": {},
   "outputs": [],
   "source": [
    "%matplotlib inline\n",
    "import pandas as pd\n",
    "from matplotlib import pyplot as plt"
   ]
  },
  {
   "cell_type": "code",
   "execution_count": 2,
   "metadata": {},
   "outputs": [
    {
     "data": {
      "text/html": [
       "<div>\n",
       "<style scoped>\n",
       "    .dataframe tbody tr th:only-of-type {\n",
       "        vertical-align: middle;\n",
       "    }\n",
       "\n",
       "    .dataframe tbody tr th {\n",
       "        vertical-align: top;\n",
       "    }\n",
       "\n",
       "    .dataframe thead th {\n",
       "        text-align: right;\n",
       "    }\n",
       "</style>\n",
       "<table border=\"1\" class=\"dataframe\">\n",
       "  <thead>\n",
       "    <tr style=\"text-align: right;\">\n",
       "      <th></th>\n",
       "      <th>Document</th>\n",
       "      <th>Sentence</th>\n",
       "      <th>population</th>\n",
       "      <th>intervention</th>\n",
       "      <th>background</th>\n",
       "      <th>outcome</th>\n",
       "      <th>study design</th>\n",
       "      <th>other</th>\n",
       "      <th>Text</th>\n",
       "    </tr>\n",
       "  </thead>\n",
       "  <tbody>\n",
       "    <tr>\n",
       "      <th>0</th>\n",
       "      <td>145506</td>\n",
       "      <td>1</td>\n",
       "      <td>0</td>\n",
       "      <td>0</td>\n",
       "      <td>1</td>\n",
       "      <td>0</td>\n",
       "      <td>0</td>\n",
       "      <td>0</td>\n",
       "      <td>The rare liquor leakage syndrome with cranial ...</td>\n",
       "    </tr>\n",
       "    <tr>\n",
       "      <th>1</th>\n",
       "      <td>145506</td>\n",
       "      <td>2</td>\n",
       "      <td>0</td>\n",
       "      <td>0</td>\n",
       "      <td>1</td>\n",
       "      <td>0</td>\n",
       "      <td>0</td>\n",
       "      <td>0</td>\n",
       "      <td>This does not occur after a suboccipital punct...</td>\n",
       "    </tr>\n",
       "    <tr>\n",
       "      <th>2</th>\n",
       "      <td>145506</td>\n",
       "      <td>3</td>\n",
       "      <td>1</td>\n",
       "      <td>0</td>\n",
       "      <td>0</td>\n",
       "      <td>0</td>\n",
       "      <td>0</td>\n",
       "      <td>0</td>\n",
       "      <td>A report is given on three cases with differen...</td>\n",
       "    </tr>\n",
       "    <tr>\n",
       "      <th>3</th>\n",
       "      <td>145506</td>\n",
       "      <td>4</td>\n",
       "      <td>0</td>\n",
       "      <td>0</td>\n",
       "      <td>0</td>\n",
       "      <td>1</td>\n",
       "      <td>0</td>\n",
       "      <td>0</td>\n",
       "      <td>The prognosis of the eye-muscle paresis is good.</td>\n",
       "    </tr>\n",
       "    <tr>\n",
       "      <th>4</th>\n",
       "      <td>145506</td>\n",
       "      <td>5</td>\n",
       "      <td>0</td>\n",
       "      <td>0</td>\n",
       "      <td>0</td>\n",
       "      <td>1</td>\n",
       "      <td>0</td>\n",
       "      <td>0</td>\n",
       "      <td>Restitutio ad integrum resulted.</td>\n",
       "    </tr>\n",
       "  </tbody>\n",
       "</table>\n",
       "</div>"
      ],
      "text/plain": [
       "   Document  Sentence  population  intervention  background  outcome  \\\n",
       "0    145506         1           0             0           1        0   \n",
       "1    145506         2           0             0           1        0   \n",
       "2    145506         3           1             0           0        0   \n",
       "3    145506         4           0             0           0        1   \n",
       "4    145506         5           0             0           0        1   \n",
       "\n",
       "   study design  other                                               Text  \n",
       "0             0      0  The rare liquor leakage syndrome with cranial ...  \n",
       "1             0      0  This does not occur after a suboccipital punct...  \n",
       "2             0      0  A report is given on three cases with differen...  \n",
       "3             0      0   The prognosis of the eye-muscle paresis is good.  \n",
       "4             0      0                   Restitutio ad integrum resulted.  "
      ]
     },
     "execution_count": 2,
     "metadata": {},
     "output_type": "execute_result"
    }
   ],
   "source": [
    "train_pd = pd.read_csv(\"train_2022.csv\")\n",
    "train_pd.head()"
   ]
  },
  {
   "cell_type": "code",
   "execution_count": 3,
   "metadata": {},
   "outputs": [
    {
     "name": "stdout",
     "output_type": "stream",
     "text": [
      "[584, 501, 1777, 3192, 167, 2424]\n"
     ]
    }
   ],
   "source": [
    "labels = ['population','intervention','background','outcome','study design','other']\n",
    "label_counts = []\n",
    "for l in labels:\n",
    "    counts = train_pd[l].sum()\n",
    "    label_counts.append(counts)\n",
    "print(label_counts)"
   ]
  },
  {
   "cell_type": "code",
   "execution_count": 4,
   "metadata": {},
   "outputs": [
    {
     "data": {
      "image/png": "[encoded data removed]",
      "text/plain": [
       "<Figure size 864x432 with 1 Axes>"
      ]
     },
     "metadata": {
      "needs_background": "light"
     },
     "output_type": "display_data"
    }
   ],
   "source": [
    "plt.figure(figsize=(12,6))\n",
    "plt.bar(range(6), label_counts)\n",
    "plt.xticks(range(6), labels)\n",
    "plt.show()"
   ]
  },
  {
   "cell_type": "code",
   "execution_count": 5,
   "metadata": {},
   "outputs": [
    {
     "data": {
      "text/plain": [
       "8216"
      ]
     },
     "execution_count": 5,
     "metadata": {},
     "output_type": "execute_result"
    }
   ],
   "source": [
    "n=len(train_pd)\n",
    "n"
   ]
  },
  {
   "cell_type": "markdown",
   "metadata": {},
   "source": [
    "## Neural Networks\n",
    "\n",
    "The following code trains a simple neural network that uses an output layer with a sigmoid activation function. "
   ]
  },
  {
   "cell_type": "code",
   "execution_count": 7,
   "metadata": {},
   "outputs": [
    {
     "name": "stderr",
     "output_type": "stream",
     "text": [
      "2022-10-04 18:40:32.544629: I tensorflow/core/platform/cpu_feature_guard.cc:193] This TensorFlow binary is optimized with oneAPI Deep Neural Network Library (oneDNN) to use the following CPU instructions in performance-critical operations:  AVX2 AVX512F AVX512_VNNI FMA\n",
      "To enable them in other operations, rebuild TensorFlow with the appropriate compiler flags.\n",
      "2022-10-04 18:40:32.850336: I tensorflow/core/util/util.cc:169] oneDNN custom operations are on. You may see slightly different numerical results due to floating-point round-off errors from different computation orders. To turn them off, set the environment variable `TF_ENABLE_ONEDNN_OPTS=0`.\n",
      "2022-10-04 18:40:32.909694: W tensorflow/stream_executor/platform/default/dso_loader.cc:64] Could not load dynamic library 'libcudart.so.11.0'; dlerror: libcudart.so.11.0: cannot open shared object file: No such file or directory; LD_LIBRARY_PATH: \n",
      "2022-10-04 18:40:32.909710: I tensorflow/stream_executor/cuda/cudart_stub.cc:29] Ignore above cudart dlerror if you do not have a GPU set up on your machine.\n",
      "2022-10-04 18:40:32.949725: E tensorflow/stream_executor/cuda/cuda_blas.cc:2981] Unable to register cuBLAS factory: Attempting to register factory for plugin cuBLAS when one has already been registered\n",
      "2022-10-04 18:40:33.601030: W tensorflow/stream_executor/platform/default/dso_loader.cc:64] Could not load dynamic library 'libnvinfer.so.7'; dlerror: libnvinfer.so.7: cannot open shared object file: No such file or directory; LD_LIBRARY_PATH: \n",
      "2022-10-04 18:40:33.601221: W tensorflow/stream_executor/platform/default/dso_loader.cc:64] Could not load dynamic library 'libnvinfer_plugin.so.7'; dlerror: libnvinfer_plugin.so.7: cannot open shared object file: No such file or directory; LD_LIBRARY_PATH: \n",
      "2022-10-04 18:40:33.601227: W tensorflow/compiler/tf2tensorrt/utils/py_utils.cc:38] TF-TRT Warning: Cannot dlopen some TensorRT libraries. If you would like to use Nvidia GPU with TensorRT, please make sure the missing libraries mentioned above are installed properly.\n"
     ]
    },
    {
     "name": "stdout",
     "output_type": "stream",
     "text": [
      "Model: \"sequential\"\n",
      "_________________________________________________________________\n",
      " Layer (type)                Output Shape              Param #   \n",
      "=================================================================\n",
      " dense (Dense)               (None, 6)                 60006     \n",
      "                                                                 \n",
      "=================================================================\n",
      "Total params: 60,006\n",
      "Trainable params: 60,006\n",
      "Non-trainable params: 0\n",
      "_________________________________________________________________\n"
     ]
    },
    {
     "name": "stderr",
     "output_type": "stream",
     "text": [
      "2022-10-04 18:40:34.512892: W tensorflow/stream_executor/platform/default/dso_loader.cc:64] Could not load dynamic library 'libcuda.so.1'; dlerror: libcuda.so.1: cannot open shared object file: No such file or directory; LD_LIBRARY_PATH: \n",
      "2022-10-04 18:40:34.513094: W tensorflow/stream_executor/cuda/cuda_driver.cc:263] failed call to cuInit: UNKNOWN ERROR (303)\n",
      "2022-10-04 18:40:34.513113: I tensorflow/stream_executor/cuda/cuda_diagnostics.cc:156] kernel driver does not appear to be running on this host (SCI-10648): /proc/driver/nvidia/version does not exist\n",
      "2022-10-04 18:40:34.513749: I tensorflow/core/platform/cpu_feature_guard.cc:193] This TensorFlow binary is optimized with oneAPI Deep Neural Network Library (oneDNN) to use the following CPU instructions in performance-critical operations:  AVX2 AVX512F AVX512_VNNI FMA\n",
      "To enable them in other operations, rebuild TensorFlow with the appropriate compiler flags.\n"
     ]
    }
   ],
   "source": [
    "from sklearn.feature_extraction.text import TfidfVectorizer\n",
    "from tensorflow.keras import models, layers\n",
    "\n",
    "labels = ['population','intervention','background','outcome','study design','other']\n",
    "nb = dict()\n",
    "\n",
    "tfidf = TfidfVectorizer(input='contents', max_features=10000)\n",
    "train_tfidf = tfidf.fit_transform(train_pd['Text']).toarray()\n",
    "\n",
    "simple_nn = models.Sequential()\n",
    "simple_nn.add(layers.Dense(6, activation='sigmoid', input_shape=(len(tfidf.get_feature_names()),)))\n",
    "simple_nn.summary()"
   ]
  },
  {
   "cell_type": "code",
   "execution_count": 8,
   "metadata": {},
   "outputs": [],
   "source": [
    "simple_nn.compile(optimizer='rmsprop',\n",
    "                  loss='binary_crossentropy',\n",
    "                  metrics=['accuracy'])"
   ]
  },
  {
   "cell_type": "code",
   "execution_count": 9,
   "metadata": {},
   "outputs": [
    {
     "name": "stdout",
     "output_type": "stream",
     "text": [
      "Epoch 1/70\n",
      "206/206 [==============================] - 1s 2ms/step - loss: 0.6246 - accuracy: 0.5108 - val_loss: 0.5708 - val_accuracy: 0.5408\n",
      "Epoch 2/70\n",
      "206/206 [==============================] - 0s 2ms/step - loss: 0.5213 - accuracy: 0.5292 - val_loss: 0.4894 - val_accuracy: 0.5438\n",
      "Epoch 3/70\n",
      "206/206 [==============================] - 0s 2ms/step - loss: 0.4514 - accuracy: 0.5306 - val_loss: 0.4340 - val_accuracy: 0.5499\n",
      "Epoch 4/70\n",
      "206/206 [==============================] - 0s 2ms/step - loss: 0.4050 - accuracy: 0.5405 - val_loss: 0.3968 - val_accuracy: 0.5566\n",
      "Epoch 5/70\n",
      "206/206 [==============================] - 0s 2ms/step - loss: 0.3739 - accuracy: 0.5505 - val_loss: 0.3714 - val_accuracy: 0.5687\n",
      "Epoch 6/70\n",
      "206/206 [==============================] - 0s 2ms/step - loss: 0.3525 - accuracy: 0.5638 - val_loss: 0.3540 - val_accuracy: 0.5760\n",
      "Epoch 7/70\n",
      "206/206 [==============================] - 0s 2ms/step - loss: 0.3369 - accuracy: 0.5814 - val_loss: 0.3412 - val_accuracy: 0.5864\n",
      "Epoch 8/70\n",
      "206/206 [==============================] - 0s 2ms/step - loss: 0.3249 - accuracy: 0.6065 - val_loss: 0.3317 - val_accuracy: 0.5912\n",
      "Epoch 9/70\n",
      "206/206 [==============================] - 0s 2ms/step - loss: 0.3151 - accuracy: 0.6216 - val_loss: 0.3239 - val_accuracy: 0.6028\n",
      "Epoch 10/70\n",
      "206/206 [==============================] - 0s 2ms/step - loss: 0.3066 - accuracy: 0.6446 - val_loss: 0.3174 - val_accuracy: 0.6077\n",
      "Epoch 11/70\n",
      "206/206 [==============================] - 0s 2ms/step - loss: 0.2990 - accuracy: 0.6616 - val_loss: 0.3118 - val_accuracy: 0.6192\n",
      "Epoch 12/70\n",
      "206/206 [==============================] - 0s 2ms/step - loss: 0.2922 - accuracy: 0.6729 - val_loss: 0.3068 - val_accuracy: 0.6217\n",
      "Epoch 13/70\n",
      "206/206 [==============================] - 0s 2ms/step - loss: 0.2858 - accuracy: 0.6830 - val_loss: 0.3024 - val_accuracy: 0.6235\n",
      "Epoch 14/70\n",
      "206/206 [==============================] - 0s 2ms/step - loss: 0.2799 - accuracy: 0.6894 - val_loss: 0.2982 - val_accuracy: 0.6290\n",
      "Epoch 15/70\n",
      "206/206 [==============================] - 0s 2ms/step - loss: 0.2743 - accuracy: 0.7034 - val_loss: 0.2945 - val_accuracy: 0.6302\n",
      "Epoch 16/70\n",
      "206/206 [==============================] - 0s 2ms/step - loss: 0.2690 - accuracy: 0.7121 - val_loss: 0.2910 - val_accuracy: 0.6344\n",
      "Epoch 17/70\n",
      "206/206 [==============================] - 0s 2ms/step - loss: 0.2642 - accuracy: 0.7135 - val_loss: 0.2879 - val_accuracy: 0.6411\n",
      "Epoch 18/70\n",
      "206/206 [==============================] - 0s 2ms/step - loss: 0.2595 - accuracy: 0.7193 - val_loss: 0.2850 - val_accuracy: 0.6448\n",
      "Epoch 19/70\n",
      "206/206 [==============================] - 0s 2ms/step - loss: 0.2552 - accuracy: 0.7261 - val_loss: 0.2823 - val_accuracy: 0.6472\n",
      "Epoch 20/70\n",
      "206/206 [==============================] - 0s 2ms/step - loss: 0.2510 - accuracy: 0.7319 - val_loss: 0.2798 - val_accuracy: 0.6496\n",
      "Epoch 21/70\n",
      "206/206 [==============================] - 0s 2ms/step - loss: 0.2471 - accuracy: 0.7365 - val_loss: 0.2775 - val_accuracy: 0.6515\n",
      "Epoch 22/70\n",
      "206/206 [==============================] - 0s 2ms/step - loss: 0.2435 - accuracy: 0.7403 - val_loss: 0.2753 - val_accuracy: 0.6545\n",
      "Epoch 23/70\n",
      "206/206 [==============================] - 0s 2ms/step - loss: 0.2399 - accuracy: 0.7465 - val_loss: 0.2734 - val_accuracy: 0.6606\n",
      "Epoch 24/70\n",
      "206/206 [==============================] - 0s 2ms/step - loss: 0.2366 - accuracy: 0.7533 - val_loss: 0.2716 - val_accuracy: 0.6624\n",
      "Epoch 25/70\n",
      "206/206 [==============================] - 0s 2ms/step - loss: 0.2334 - accuracy: 0.7585 - val_loss: 0.2699 - val_accuracy: 0.6679\n",
      "Epoch 26/70\n",
      "206/206 [==============================] - 0s 2ms/step - loss: 0.2304 - accuracy: 0.7625 - val_loss: 0.2683 - val_accuracy: 0.6691\n",
      "Epoch 27/70\n",
      "206/206 [==============================] - 0s 2ms/step - loss: 0.2275 - accuracy: 0.7658 - val_loss: 0.2668 - val_accuracy: 0.6721\n",
      "Epoch 28/70\n",
      "206/206 [==============================] - 0s 2ms/step - loss: 0.2248 - accuracy: 0.7692 - val_loss: 0.2654 - val_accuracy: 0.6746\n",
      "Epoch 29/70\n",
      "206/206 [==============================] - 0s 2ms/step - loss: 0.2221 - accuracy: 0.7736 - val_loss: 0.2641 - val_accuracy: 0.6770\n",
      "Epoch 30/70\n",
      "206/206 [==============================] - 0s 2ms/step - loss: 0.2196 - accuracy: 0.7757 - val_loss: 0.2630 - val_accuracy: 0.6788\n",
      "Epoch 31/70\n",
      "206/206 [==============================] - 0s 2ms/step - loss: 0.2172 - accuracy: 0.7798 - val_loss: 0.2619 - val_accuracy: 0.6782\n",
      "Epoch 32/70\n",
      "206/206 [==============================] - 0s 2ms/step - loss: 0.2149 - accuracy: 0.7830 - val_loss: 0.2609 - val_accuracy: 0.6782\n",
      "Epoch 33/70\n",
      "206/206 [==============================] - 0s 2ms/step - loss: 0.2127 - accuracy: 0.7873 - val_loss: 0.2599 - val_accuracy: 0.6800\n",
      "Epoch 34/70\n",
      "206/206 [==============================] - 0s 2ms/step - loss: 0.2105 - accuracy: 0.7914 - val_loss: 0.2590 - val_accuracy: 0.6813\n",
      "Epoch 35/70\n",
      "206/206 [==============================] - 0s 2ms/step - loss: 0.2084 - accuracy: 0.7941 - val_loss: 0.2581 - val_accuracy: 0.6831\n",
      "Epoch 36/70\n",
      "206/206 [==============================] - 0s 2ms/step - loss: 0.2064 - accuracy: 0.7967 - val_loss: 0.2574 - val_accuracy: 0.6843\n",
      "Epoch 37/70\n",
      "206/206 [==============================] - 0s 2ms/step - loss: 0.2045 - accuracy: 0.7988 - val_loss: 0.2566 - val_accuracy: 0.6843\n",
      "Epoch 38/70\n",
      "206/206 [==============================] - 0s 2ms/step - loss: 0.2027 - accuracy: 0.8017 - val_loss: 0.2560 - val_accuracy: 0.6861\n",
      "Epoch 39/70\n",
      "206/206 [==============================] - 0s 2ms/step - loss: 0.2009 - accuracy: 0.8034 - val_loss: 0.2553 - val_accuracy: 0.6867\n",
      "Epoch 40/70\n",
      "206/206 [==============================] - 0s 2ms/step - loss: 0.1992 - accuracy: 0.8074 - val_loss: 0.2547 - val_accuracy: 0.6880\n",
      "Epoch 41/70\n",
      "206/206 [==============================] - 0s 2ms/step - loss: 0.1975 - accuracy: 0.8084 - val_loss: 0.2542 - val_accuracy: 0.6886\n",
      "Epoch 42/70\n",
      "206/206 [==============================] - 0s 2ms/step - loss: 0.1959 - accuracy: 0.8118 - val_loss: 0.2537 - val_accuracy: 0.6898\n",
      "Epoch 43/70\n",
      "206/206 [==============================] - 0s 2ms/step - loss: 0.1943 - accuracy: 0.8127 - val_loss: 0.2532 - val_accuracy: 0.6892\n",
      "Epoch 44/70\n",
      "206/206 [==============================] - 0s 2ms/step - loss: 0.1928 - accuracy: 0.8139 - val_loss: 0.2527 - val_accuracy: 0.6898\n",
      "Epoch 45/70\n",
      "206/206 [==============================] - 0s 2ms/step - loss: 0.1913 - accuracy: 0.8145 - val_loss: 0.2523 - val_accuracy: 0.6904\n",
      "Epoch 46/70\n",
      "206/206 [==============================] - 0s 2ms/step - loss: 0.1899 - accuracy: 0.8173 - val_loss: 0.2519 - val_accuracy: 0.6904\n",
      "Epoch 47/70\n",
      "206/206 [==============================] - 0s 2ms/step - loss: 0.1885 - accuracy: 0.8195 - val_loss: 0.2516 - val_accuracy: 0.6910\n",
      "Epoch 48/70\n",
      "206/206 [==============================] - 0s 2ms/step - loss: 0.1871 - accuracy: 0.8201 - val_loss: 0.2513 - val_accuracy: 0.6922\n",
      "Epoch 49/70\n",
      "206/206 [==============================] - 0s 2ms/step - loss: 0.1858 - accuracy: 0.8214 - val_loss: 0.2510 - val_accuracy: 0.6940\n",
      "Epoch 50/70\n",
      "206/206 [==============================] - 0s 2ms/step - loss: 0.1845 - accuracy: 0.8238 - val_loss: 0.2506 - val_accuracy: 0.6940\n",
      "Epoch 51/70\n",
      "206/206 [==============================] - 0s 2ms/step - loss: 0.1833 - accuracy: 0.8249 - val_loss: 0.2504 - val_accuracy: 0.6953\n",
      "Epoch 52/70\n",
      "206/206 [==============================] - 0s 2ms/step - loss: 0.1821 - accuracy: 0.8258 - val_loss: 0.2502 - val_accuracy: 0.6934\n",
      "Epoch 53/70\n",
      "206/206 [==============================] - 0s 2ms/step - loss: 0.1809 - accuracy: 0.8264 - val_loss: 0.2499 - val_accuracy: 0.6934\n",
      "Epoch 54/70\n",
      "206/206 [==============================] - 0s 2ms/step - loss: 0.1797 - accuracy: 0.8276 - val_loss: 0.2497 - val_accuracy: 0.6928\n",
      "Epoch 55/70\n",
      "206/206 [==============================] - 0s 2ms/step - loss: 0.1786 - accuracy: 0.8296 - val_loss: 0.2495 - val_accuracy: 0.6928\n",
      "Epoch 56/70\n",
      "206/206 [==============================] - 0s 2ms/step - loss: 0.1775 - accuracy: 0.8305 - val_loss: 0.2493 - val_accuracy: 0.6934\n",
      "Epoch 57/70\n",
      "206/206 [==============================] - 0s 2ms/step - loss: 0.1764 - accuracy: 0.8317 - val_loss: 0.2492 - val_accuracy: 0.6922\n",
      "Epoch 58/70\n",
      "206/206 [==============================] - 0s 2ms/step - loss: 0.1754 - accuracy: 0.8329 - val_loss: 0.2491 - val_accuracy: 0.6910\n",
      "Epoch 59/70\n",
      "206/206 [==============================] - 0s 2ms/step - loss: 0.1743 - accuracy: 0.8329 - val_loss: 0.2490 - val_accuracy: 0.6922\n",
      "Epoch 60/70\n",
      "206/206 [==============================] - 0s 2ms/step - loss: 0.1733 - accuracy: 0.8343 - val_loss: 0.2489 - val_accuracy: 0.6916\n",
      "Epoch 61/70\n",
      "206/206 [==============================] - 0s 2ms/step - loss: 0.1723 - accuracy: 0.8364 - val_loss: 0.2488 - val_accuracy: 0.6934\n",
      "Epoch 62/70\n",
      "206/206 [==============================] - 0s 2ms/step - loss: 0.1714 - accuracy: 0.8369 - val_loss: 0.2487 - val_accuracy: 0.6928\n",
      "Epoch 63/70\n",
      "206/206 [==============================] - 0s 2ms/step - loss: 0.1704 - accuracy: 0.8372 - val_loss: 0.2486 - val_accuracy: 0.6946\n",
      "Epoch 64/70\n",
      "206/206 [==============================] - 0s 2ms/step - loss: 0.1695 - accuracy: 0.8381 - val_loss: 0.2486 - val_accuracy: 0.6928\n",
      "Epoch 65/70\n",
      "206/206 [==============================] - 0s 2ms/step - loss: 0.1686 - accuracy: 0.8393 - val_loss: 0.2485 - val_accuracy: 0.6953\n",
      "Epoch 66/70\n",
      "206/206 [==============================] - 0s 2ms/step - loss: 0.1677 - accuracy: 0.8396 - val_loss: 0.2485 - val_accuracy: 0.6953\n",
      "Epoch 67/70\n",
      "206/206 [==============================] - 0s 2ms/step - loss: 0.1669 - accuracy: 0.8408 - val_loss: 0.2484 - val_accuracy: 0.6953\n",
      "Epoch 68/70\n",
      "206/206 [==============================] - 0s 2ms/step - loss: 0.1660 - accuracy: 0.8411 - val_loss: 0.2485 - val_accuracy: 0.6946\n",
      "Epoch 69/70\n",
      "206/206 [==============================] - 0s 2ms/step - loss: 0.1651 - accuracy: 0.8424 - val_loss: 0.2485 - val_accuracy: 0.6946\n",
      "Epoch 70/70\n",
      "206/206 [==============================] - 0s 2ms/step - loss: 0.1643 - accuracy: 0.8430 - val_loss: 0.2485 - val_accuracy: 0.6953\n"
     ]
    }
   ],
   "source": [
    "from random import shuffle\n",
    "import numpy as np\n",
    "history=simple_nn.fit(train_tfidf,\n",
    "                      np.array(train_pd[labels]),\n",
    "                      epochs=70,\n",
    "                      batch_size=32,\n",
    "                      validation_split=0.2)"
   ]
  },
  {
   "cell_type": "code",
   "execution_count": 10,
   "metadata": {},
   "outputs": [
    {
     "data": {
      "image/png": "[encoded data removed]",
      "text/plain": [
       "<Figure size 432x288 with 1 Axes>"
      ]
     },
     "metadata": {
      "needs_background": "light"
     },
     "output_type": "display_data"
    }
   ],
   "source": [
    "loss = history.history['loss']\n",
    "val_loss = history.history['val_loss']\n",
    "\n",
    "epochs = range(1, len(loss) + 1)\n",
    "\n",
    "plt.plot(epochs, loss, 'bo', label='Training loss')\n",
    "plt.plot(epochs, val_loss, 'b', label='Validation loss')\n",
    "plt.title('Training and validation loss')\n",
    "plt.xlabel('Epochs')\n",
    "plt.ylabel('Loss')\n",
    "plt.legend()\n",
    "\n",
    "plt.show()"
   ]
  },
  {
   "cell_type": "markdown",
   "metadata": {},
   "source": [
    "The following code applies the Naive Bayes models to the validation data, and saves the result in a CSV file for submission."
   ]
  },
  {
   "cell_type": "code",
   "execution_count": 11,
   "metadata": {},
   "outputs": [
    {
     "data": {
      "text/html": [
       "<div>\n",
       "<style scoped>\n",
       "    .dataframe tbody tr th:only-of-type {\n",
       "        vertical-align: middle;\n",
       "    }\n",
       "\n",
       "    .dataframe tbody tr th {\n",
       "        vertical-align: top;\n",
       "    }\n",
       "\n",
       "    .dataframe thead th {\n",
       "        text-align: right;\n",
       "    }\n",
       "</style>\n",
       "<table border=\"1\" class=\"dataframe\">\n",
       "  <thead>\n",
       "    <tr style=\"text-align: right;\">\n",
       "      <th></th>\n",
       "      <th>Document</th>\n",
       "      <th>Sentence</th>\n",
       "      <th>population</th>\n",
       "      <th>intervention</th>\n",
       "      <th>background</th>\n",
       "      <th>outcome</th>\n",
       "      <th>study design</th>\n",
       "      <th>other</th>\n",
       "      <th>Text</th>\n",
       "    </tr>\n",
       "  </thead>\n",
       "  <tbody>\n",
       "    <tr>\n",
       "      <th>0</th>\n",
       "      <td>2545507</td>\n",
       "      <td>1</td>\n",
       "      <td>NaN</td>\n",
       "      <td>NaN</td>\n",
       "      <td>NaN</td>\n",
       "      <td>NaN</td>\n",
       "      <td>NaN</td>\n",
       "      <td>NaN</td>\n",
       "      <td>1</td>\n",
       "    </tr>\n",
       "    <tr>\n",
       "      <th>1</th>\n",
       "      <td>2545507</td>\n",
       "      <td>2</td>\n",
       "      <td>NaN</td>\n",
       "      <td>NaN</td>\n",
       "      <td>NaN</td>\n",
       "      <td>NaN</td>\n",
       "      <td>NaN</td>\n",
       "      <td>NaN</td>\n",
       "      <td>Field electrical stimulation elicited an incre...</td>\n",
       "    </tr>\n",
       "    <tr>\n",
       "      <th>2</th>\n",
       "      <td>2545507</td>\n",
       "      <td>3</td>\n",
       "      <td>NaN</td>\n",
       "      <td>NaN</td>\n",
       "      <td>NaN</td>\n",
       "      <td>NaN</td>\n",
       "      <td>NaN</td>\n",
       "      <td>NaN</td>\n",
       "      <td>2</td>\n",
       "    </tr>\n",
       "    <tr>\n",
       "      <th>3</th>\n",
       "      <td>2545507</td>\n",
       "      <td>4</td>\n",
       "      <td>NaN</td>\n",
       "      <td>NaN</td>\n",
       "      <td>NaN</td>\n",
       "      <td>NaN</td>\n",
       "      <td>NaN</td>\n",
       "      <td>NaN</td>\n",
       "      <td>This efflux was: (a) reduced by clonidine, NA ...</td>\n",
       "    </tr>\n",
       "    <tr>\n",
       "      <th>4</th>\n",
       "      <td>2545507</td>\n",
       "      <td>5</td>\n",
       "      <td>NaN</td>\n",
       "      <td>NaN</td>\n",
       "      <td>NaN</td>\n",
       "      <td>NaN</td>\n",
       "      <td>NaN</td>\n",
       "      <td>NaN</td>\n",
       "      <td>3</td>\n",
       "    </tr>\n",
       "  </tbody>\n",
       "</table>\n",
       "</div>"
      ],
      "text/plain": [
       "   Document  Sentence  population  intervention  background  outcome  \\\n",
       "0   2545507         1         NaN           NaN         NaN      NaN   \n",
       "1   2545507         2         NaN           NaN         NaN      NaN   \n",
       "2   2545507         3         NaN           NaN         NaN      NaN   \n",
       "3   2545507         4         NaN           NaN         NaN      NaN   \n",
       "4   2545507         5         NaN           NaN         NaN      NaN   \n",
       "\n",
       "   study design  other                                               Text  \n",
       "0           NaN    NaN                                                  1  \n",
       "1           NaN    NaN  Field electrical stimulation elicited an incre...  \n",
       "2           NaN    NaN                                                  2  \n",
       "3           NaN    NaN  This efflux was: (a) reduced by clonidine, NA ...  \n",
       "4           NaN    NaN                                                  3  "
      ]
     },
     "execution_count": 11,
     "metadata": {},
     "output_type": "execute_result"
    }
   ],
   "source": [
    "test_pd = pd.read_csv(\"val_2022.csv\")\n",
    "test_pd.head()"
   ]
  },
  {
   "cell_type": "code",
   "execution_count": 12,
   "metadata": {},
   "outputs": [
    {
     "name": "stdout",
     "output_type": "stream",
     "text": [
      "15/15 [==============================] - 0s 868us/step\n"
     ]
    },
    {
     "data": {
      "text/html": [
       "<div>\n",
       "<style scoped>\n",
       "    .dataframe tbody tr th:only-of-type {\n",
       "        vertical-align: middle;\n",
       "    }\n",
       "\n",
       "    .dataframe tbody tr th {\n",
       "        vertical-align: top;\n",
       "    }\n",
       "\n",
       "    .dataframe thead th {\n",
       "        text-align: right;\n",
       "    }\n",
       "</style>\n",
       "<table border=\"1\" class=\"dataframe\">\n",
       "  <thead>\n",
       "    <tr style=\"text-align: right;\">\n",
       "      <th></th>\n",
       "      <th>Document</th>\n",
       "      <th>Sentence</th>\n",
       "      <th>population</th>\n",
       "      <th>intervention</th>\n",
       "      <th>background</th>\n",
       "      <th>outcome</th>\n",
       "      <th>study design</th>\n",
       "      <th>other</th>\n",
       "      <th>Text</th>\n",
       "    </tr>\n",
       "  </thead>\n",
       "  <tbody>\n",
       "    <tr>\n",
       "      <th>0</th>\n",
       "      <td>2545507</td>\n",
       "      <td>1</td>\n",
       "      <td>0.402771</td>\n",
       "      <td>0.506255</td>\n",
       "      <td>0.412654</td>\n",
       "      <td>0.340045</td>\n",
       "      <td>0.414168</td>\n",
       "      <td>0.830021</td>\n",
       "      <td>1</td>\n",
       "    </tr>\n",
       "    <tr>\n",
       "      <th>1</th>\n",
       "      <td>2545507</td>\n",
       "      <td>2</td>\n",
       "      <td>0.071321</td>\n",
       "      <td>0.079583</td>\n",
       "      <td>0.230629</td>\n",
       "      <td>0.495375</td>\n",
       "      <td>0.006145</td>\n",
       "      <td>0.043400</td>\n",
       "      <td>Field electrical stimulation elicited an incre...</td>\n",
       "    </tr>\n",
       "    <tr>\n",
       "      <th>2</th>\n",
       "      <td>2545507</td>\n",
       "      <td>3</td>\n",
       "      <td>0.402771</td>\n",
       "      <td>0.506255</td>\n",
       "      <td>0.412654</td>\n",
       "      <td>0.340045</td>\n",
       "      <td>0.414168</td>\n",
       "      <td>0.830021</td>\n",
       "      <td>2</td>\n",
       "    </tr>\n",
       "    <tr>\n",
       "      <th>3</th>\n",
       "      <td>2545507</td>\n",
       "      <td>4</td>\n",
       "      <td>0.038771</td>\n",
       "      <td>0.351922</td>\n",
       "      <td>0.114256</td>\n",
       "      <td>0.802764</td>\n",
       "      <td>0.000165</td>\n",
       "      <td>0.030584</td>\n",
       "      <td>This efflux was: (a) reduced by clonidine, NA ...</td>\n",
       "    </tr>\n",
       "    <tr>\n",
       "      <th>4</th>\n",
       "      <td>2545507</td>\n",
       "      <td>5</td>\n",
       "      <td>0.402771</td>\n",
       "      <td>0.506255</td>\n",
       "      <td>0.412654</td>\n",
       "      <td>0.340045</td>\n",
       "      <td>0.414168</td>\n",
       "      <td>0.830021</td>\n",
       "      <td>3</td>\n",
       "    </tr>\n",
       "  </tbody>\n",
       "</table>\n",
       "</div>"
      ],
      "text/plain": [
       "   Document  Sentence  population  intervention  background   outcome  \\\n",
       "0   2545507         1    0.402771      0.506255    0.412654  0.340045   \n",
       "1   2545507         2    0.071321      0.079583    0.230629  0.495375   \n",
       "2   2545507         3    0.402771      0.506255    0.412654  0.340045   \n",
       "3   2545507         4    0.038771      0.351922    0.114256  0.802764   \n",
       "4   2545507         5    0.402771      0.506255    0.412654  0.340045   \n",
       "\n",
       "   study design     other                                               Text  \n",
       "0      0.414168  0.830021                                                  1  \n",
       "1      0.006145  0.043400  Field electrical stimulation elicited an incre...  \n",
       "2      0.414168  0.830021                                                  2  \n",
       "3      0.000165  0.030584  This efflux was: (a) reduced by clonidine, NA ...  \n",
       "4      0.414168  0.830021                                                  3  "
      ]
     },
     "execution_count": 12,
     "metadata": {},
     "output_type": "execute_result"
    }
   ],
   "source": [
    "test_tfidf = tfidf.transform(test_pd['Text']).toarray()\n",
    "test_probabilities = simple_nn.predict(test_tfidf)\n",
    "test_pd[labels] = test_probabilities\n",
    "test_pd.head()"
   ]
  },
  {
   "cell_type": "code",
   "execution_count": 13,
   "metadata": {},
   "outputs": [],
   "source": [
    "test_pd.to_csv('nn_val_2022_probabilities.csv', index=False)"
   ]
  },
  {
   "cell_type": "code",
   "execution_count": 14,
   "metadata": {},
   "outputs": [
    {
     "data": {
      "text/plain": [
       "<AxesSubplot:>"
      ]
     },
     "execution_count": 14,
     "metadata": {},
     "output_type": "execute_result"
    },
    {
     "data": {
      "image/png": "[encoded data removed]",
      "text/plain": [
       "<Figure size 432x288 with 1 Axes>"
      ]
     },
     "metadata": {
      "needs_background": "light"
     },
     "output_type": "display_data"
    }
   ],
   "source": [
    "test_pd.boxplot(column=labels)"
   ]
  },
  {
   "cell_type": "markdown",
   "metadata": {},
   "source": [
    "And now, with the test data"
   ]
  },
  {
   "cell_type": "code",
   "execution_count": 15,
   "metadata": {},
   "outputs": [
    {
     "data": {
      "text/html": [
       "<div>\n",
       "<style scoped>\n",
       "    .dataframe tbody tr th:only-of-type {\n",
       "        vertical-align: middle;\n",
       "    }\n",
       "\n",
       "    .dataframe tbody tr th {\n",
       "        vertical-align: top;\n",
       "    }\n",
       "\n",
       "    .dataframe thead th {\n",
       "        text-align: right;\n",
       "    }\n",
       "</style>\n",
       "<table border=\"1\" class=\"dataframe\">\n",
       "  <thead>\n",
       "    <tr style=\"text-align: right;\">\n",
       "      <th></th>\n",
       "      <th>Document</th>\n",
       "      <th>Sentence</th>\n",
       "      <th>population</th>\n",
       "      <th>intervention</th>\n",
       "      <th>background</th>\n",
       "      <th>outcome</th>\n",
       "      <th>study design</th>\n",
       "      <th>other</th>\n",
       "      <th>Text</th>\n",
       "    </tr>\n",
       "  </thead>\n",
       "  <tbody>\n",
       "    <tr>\n",
       "      <th>0</th>\n",
       "      <td>1079261</td>\n",
       "      <td>1</td>\n",
       "      <td>NaN</td>\n",
       "      <td>NaN</td>\n",
       "      <td>NaN</td>\n",
       "      <td>NaN</td>\n",
       "      <td>NaN</td>\n",
       "      <td>NaN</td>\n",
       "      <td>The 14th myelographically demonstrated case of...</td>\n",
       "    </tr>\n",
       "    <tr>\n",
       "      <th>1</th>\n",
       "      <td>1079261</td>\n",
       "      <td>2</td>\n",
       "      <td>NaN</td>\n",
       "      <td>NaN</td>\n",
       "      <td>NaN</td>\n",
       "      <td>NaN</td>\n",
       "      <td>NaN</td>\n",
       "      <td>NaN</td>\n",
       "      <td>In most cases lumbosacral nerve root avulsion ...</td>\n",
       "    </tr>\n",
       "    <tr>\n",
       "      <th>2</th>\n",
       "      <td>1079261</td>\n",
       "      <td>3</td>\n",
       "      <td>NaN</td>\n",
       "      <td>NaN</td>\n",
       "      <td>NaN</td>\n",
       "      <td>NaN</td>\n",
       "      <td>NaN</td>\n",
       "      <td>NaN</td>\n",
       "      <td>This force causes nerve root avulsion in the i...</td>\n",
       "    </tr>\n",
       "    <tr>\n",
       "      <th>3</th>\n",
       "      <td>1079261</td>\n",
       "      <td>4</td>\n",
       "      <td>NaN</td>\n",
       "      <td>NaN</td>\n",
       "      <td>NaN</td>\n",
       "      <td>NaN</td>\n",
       "      <td>NaN</td>\n",
       "      <td>NaN</td>\n",
       "      <td>The myelographic defect is a pseudomeningocele...</td>\n",
       "    </tr>\n",
       "    <tr>\n",
       "      <th>4</th>\n",
       "      <td>1079261</td>\n",
       "      <td>5</td>\n",
       "      <td>NaN</td>\n",
       "      <td>NaN</td>\n",
       "      <td>NaN</td>\n",
       "      <td>NaN</td>\n",
       "      <td>NaN</td>\n",
       "      <td>NaN</td>\n",
       "      <td>Myelography clearly indicates nerve root avuls...</td>\n",
       "    </tr>\n",
       "  </tbody>\n",
       "</table>\n",
       "</div>"
      ],
      "text/plain": [
       "   Document  Sentence  population  intervention  background  outcome  \\\n",
       "0   1079261         1         NaN           NaN         NaN      NaN   \n",
       "1   1079261         2         NaN           NaN         NaN      NaN   \n",
       "2   1079261         3         NaN           NaN         NaN      NaN   \n",
       "3   1079261         4         NaN           NaN         NaN      NaN   \n",
       "4   1079261         5         NaN           NaN         NaN      NaN   \n",
       "\n",
       "   study design  other                                               Text  \n",
       "0           NaN    NaN  The 14th myelographically demonstrated case of...  \n",
       "1           NaN    NaN  In most cases lumbosacral nerve root avulsion ...  \n",
       "2           NaN    NaN  This force causes nerve root avulsion in the i...  \n",
       "3           NaN    NaN  The myelographic defect is a pseudomeningocele...  \n",
       "4           NaN    NaN  Myelography clearly indicates nerve root avuls...  "
      ]
     },
     "execution_count": 15,
     "metadata": {},
     "output_type": "execute_result"
    }
   ],
   "source": [
    "test_pd = pd.read_csv(\"test_2022.csv\")\n",
    "test_pd.head()"
   ]
  },
  {
   "cell_type": "code",
   "execution_count": 16,
   "metadata": {},
   "outputs": [
    {
     "name": "stdout",
     "output_type": "stream",
     "text": [
      "18/18 [==============================] - 0s 2ms/step\n"
     ]
    },
    {
     "data": {
      "text/html": [
       "<div>\n",
       "<style scoped>\n",
       "    .dataframe tbody tr th:only-of-type {\n",
       "        vertical-align: middle;\n",
       "    }\n",
       "\n",
       "    .dataframe tbody tr th {\n",
       "        vertical-align: top;\n",
       "    }\n",
       "\n",
       "    .dataframe thead th {\n",
       "        text-align: right;\n",
       "    }\n",
       "</style>\n",
       "<table border=\"1\" class=\"dataframe\">\n",
       "  <thead>\n",
       "    <tr style=\"text-align: right;\">\n",
       "      <th></th>\n",
       "      <th>Document</th>\n",
       "      <th>Sentence</th>\n",
       "      <th>population</th>\n",
       "      <th>intervention</th>\n",
       "      <th>background</th>\n",
       "      <th>outcome</th>\n",
       "      <th>study design</th>\n",
       "      <th>other</th>\n",
       "      <th>Text</th>\n",
       "    </tr>\n",
       "  </thead>\n",
       "  <tbody>\n",
       "    <tr>\n",
       "      <th>0</th>\n",
       "      <td>1079261</td>\n",
       "      <td>1</td>\n",
       "      <td>0.049799</td>\n",
       "      <td>0.014252</td>\n",
       "      <td>0.305480</td>\n",
       "      <td>0.380675</td>\n",
       "      <td>0.001539</td>\n",
       "      <td>0.013902</td>\n",
       "      <td>The 14th myelographically demonstrated case of...</td>\n",
       "    </tr>\n",
       "    <tr>\n",
       "      <th>1</th>\n",
       "      <td>1079261</td>\n",
       "      <td>2</td>\n",
       "      <td>0.016394</td>\n",
       "      <td>0.016325</td>\n",
       "      <td>0.766958</td>\n",
       "      <td>0.277476</td>\n",
       "      <td>0.000198</td>\n",
       "      <td>0.005137</td>\n",
       "      <td>In most cases lumbosacral nerve root avulsion ...</td>\n",
       "    </tr>\n",
       "    <tr>\n",
       "      <th>2</th>\n",
       "      <td>1079261</td>\n",
       "      <td>3</td>\n",
       "      <td>0.088933</td>\n",
       "      <td>0.171325</td>\n",
       "      <td>0.411566</td>\n",
       "      <td>0.423378</td>\n",
       "      <td>0.015374</td>\n",
       "      <td>0.092106</td>\n",
       "      <td>This force causes nerve root avulsion in the i...</td>\n",
       "    </tr>\n",
       "    <tr>\n",
       "      <th>3</th>\n",
       "      <td>1079261</td>\n",
       "      <td>4</td>\n",
       "      <td>0.128921</td>\n",
       "      <td>0.553242</td>\n",
       "      <td>0.560365</td>\n",
       "      <td>0.338635</td>\n",
       "      <td>0.017608</td>\n",
       "      <td>0.259229</td>\n",
       "      <td>The myelographic defect is a pseudomeningocele...</td>\n",
       "    </tr>\n",
       "    <tr>\n",
       "      <th>4</th>\n",
       "      <td>1079261</td>\n",
       "      <td>5</td>\n",
       "      <td>0.011791</td>\n",
       "      <td>0.036120</td>\n",
       "      <td>0.238760</td>\n",
       "      <td>0.568133</td>\n",
       "      <td>0.003401</td>\n",
       "      <td>0.047286</td>\n",
       "      <td>Myelography clearly indicates nerve root avuls...</td>\n",
       "    </tr>\n",
       "  </tbody>\n",
       "</table>\n",
       "</div>"
      ],
      "text/plain": [
       "   Document  Sentence  population  intervention  background   outcome  \\\n",
       "0   1079261         1    0.049799      0.014252    0.305480  0.380675   \n",
       "1   1079261         2    0.016394      0.016325    0.766958  0.277476   \n",
       "2   1079261         3    0.088933      0.171325    0.411566  0.423378   \n",
       "3   1079261         4    0.128921      0.553242    0.560365  0.338635   \n",
       "4   1079261         5    0.011791      0.036120    0.238760  0.568133   \n",
       "\n",
       "   study design     other                                               Text  \n",
       "0      0.001539  0.013902  The 14th myelographically demonstrated case of...  \n",
       "1      0.000198  0.005137  In most cases lumbosacral nerve root avulsion ...  \n",
       "2      0.015374  0.092106  This force causes nerve root avulsion in the i...  \n",
       "3      0.017608  0.259229  The myelographic defect is a pseudomeningocele...  \n",
       "4      0.003401  0.047286  Myelography clearly indicates nerve root avuls...  "
      ]
     },
     "execution_count": 16,
     "metadata": {},
     "output_type": "execute_result"
    }
   ],
   "source": [
    "test_tfidf = tfidf.transform(test_pd['Text']).toarray()\n",
    "test_probabilities = simple_nn.predict(test_tfidf)\n",
    "test_pd[labels] = test_probabilities\n",
    "test_pd.head()"
   ]
  },
  {
   "cell_type": "code",
   "execution_count": 17,
   "metadata": {},
   "outputs": [],
   "source": [
    "test_pd.to_csv('nn_test_2022_probabilities.csv', index=False)"
   ]
  },
  {
   "cell_type": "code",
   "execution_count": 18,
   "metadata": {},
   "outputs": [
    {
     "data": {
      "text/plain": [
       "<AxesSubplot:>"
      ]
     },
     "execution_count": 18,
     "metadata": {},
     "output_type": "execute_result"
    },
    {
     "data": {
      "image/png": "[encoded data removed]",
      "text/plain": [
       "<Figure size 432x288 with 1 Axes>"
      ]
     },
     "metadata": {
      "needs_background": "light"
     },
     "output_type": "display_data"
    }
   ],
   "source": [
    "test_pd.boxplot(column=labels)"
   ]
  },
  {
   "cell_type": "code",
   "execution_count": null,
   "metadata": {},
   "outputs": [],
   "source": []
  }
 ],
 "metadata": {
  "kernelspec": {
   "display_name": "Python 3.9.7 ('base')",
   "language": "python",
   "name": "python3"
  },
  "language_info": {
   "codemirror_mode": {
    "name": "ipython",
    "version": 3
   },
   "file_extension": ".py",
   "mimetype": "text/x-python",
   "name": "python",
   "nbconvert_exporter": "python",
   "pygments_lexer": "ipython3",
   "version": "3.9.7"
  },
  "orig_nbformat": 4,
  "vscode": {
   "interpreter": {
    "hash": "360f462d1a46369b9df5b768eee0abeab9450f4d5330d465a4ab5241d206bf28"
   }
  }
 },
 "nbformat": 4,
 "nbformat_minor": 2
}
