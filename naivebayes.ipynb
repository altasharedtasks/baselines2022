{
 "cells": [
  {
   "cell_type": "markdown",
   "metadata": {},
   "source": [
    "# Naive Bayes baseline"
   ]
  },
  {
   "cell_type": "code",
   "execution_count": 1,
   "metadata": {},
   "outputs": [],
   "source": [
    "%matplotlib inline\n",
    "import pandas as pd\n",
    "from matplotlib import pyplot as plt"
   ]
  },
  {
   "cell_type": "code",
   "execution_count": 2,
   "metadata": {},
   "outputs": [
    {
     "data": {
      "text/html": [
       "<div>\n",
       "<style scoped>\n",
       "    .dataframe tbody tr th:only-of-type {\n",
       "        vertical-align: middle;\n",
       "    }\n",
       "\n",
       "    .dataframe tbody tr th {\n",
       "        vertical-align: top;\n",
       "    }\n",
       "\n",
       "    .dataframe thead th {\n",
       "        text-align: right;\n",
       "    }\n",
       "</style>\n",
       "<table border=\"1\" class=\"dataframe\">\n",
       "  <thead>\n",
       "    <tr style=\"text-align: right;\">\n",
       "      <th></th>\n",
       "      <th>Document</th>\n",
       "      <th>Sentence</th>\n",
       "      <th>population</th>\n",
       "      <th>intervention</th>\n",
       "      <th>background</th>\n",
       "      <th>outcome</th>\n",
       "      <th>study design</th>\n",
       "      <th>other</th>\n",
       "      <th>Text</th>\n",
       "    </tr>\n",
       "  </thead>\n",
       "  <tbody>\n",
       "    <tr>\n",
       "      <th>0</th>\n",
       "      <td>145506</td>\n",
       "      <td>1</td>\n",
       "      <td>0</td>\n",
       "      <td>0</td>\n",
       "      <td>1</td>\n",
       "      <td>0</td>\n",
       "      <td>0</td>\n",
       "      <td>0</td>\n",
       "      <td>The rare liquor leakage syndrome with cranial ...</td>\n",
       "    </tr>\n",
       "    <tr>\n",
       "      <th>1</th>\n",
       "      <td>145506</td>\n",
       "      <td>2</td>\n",
       "      <td>0</td>\n",
       "      <td>0</td>\n",
       "      <td>1</td>\n",
       "      <td>0</td>\n",
       "      <td>0</td>\n",
       "      <td>0</td>\n",
       "      <td>This does not occur after a suboccipital punct...</td>\n",
       "    </tr>\n",
       "    <tr>\n",
       "      <th>2</th>\n",
       "      <td>145506</td>\n",
       "      <td>3</td>\n",
       "      <td>1</td>\n",
       "      <td>0</td>\n",
       "      <td>0</td>\n",
       "      <td>0</td>\n",
       "      <td>0</td>\n",
       "      <td>0</td>\n",
       "      <td>A report is given on three cases with differen...</td>\n",
       "    </tr>\n",
       "    <tr>\n",
       "      <th>3</th>\n",
       "      <td>145506</td>\n",
       "      <td>4</td>\n",
       "      <td>0</td>\n",
       "      <td>0</td>\n",
       "      <td>0</td>\n",
       "      <td>1</td>\n",
       "      <td>0</td>\n",
       "      <td>0</td>\n",
       "      <td>The prognosis of the eye-muscle paresis is good.</td>\n",
       "    </tr>\n",
       "    <tr>\n",
       "      <th>4</th>\n",
       "      <td>145506</td>\n",
       "      <td>5</td>\n",
       "      <td>0</td>\n",
       "      <td>0</td>\n",
       "      <td>0</td>\n",
       "      <td>1</td>\n",
       "      <td>0</td>\n",
       "      <td>0</td>\n",
       "      <td>Restitutio ad integrum resulted.</td>\n",
       "    </tr>\n",
       "  </tbody>\n",
       "</table>\n",
       "</div>"
      ],
      "text/plain": [
       "   Document  Sentence  population  intervention  background  outcome  \\\n",
       "0    145506         1           0             0           1        0   \n",
       "1    145506         2           0             0           1        0   \n",
       "2    145506         3           1             0           0        0   \n",
       "3    145506         4           0             0           0        1   \n",
       "4    145506         5           0             0           0        1   \n",
       "\n",
       "   study design  other                                               Text  \n",
       "0             0      0  The rare liquor leakage syndrome with cranial ...  \n",
       "1             0      0  This does not occur after a suboccipital punct...  \n",
       "2             0      0  A report is given on three cases with differen...  \n",
       "3             0      0   The prognosis of the eye-muscle paresis is good.  \n",
       "4             0      0                   Restitutio ad integrum resulted.  "
      ]
     },
     "execution_count": 2,
     "metadata": {},
     "output_type": "execute_result"
    }
   ],
   "source": [
    "train_pd = pd.read_csv(\"train_2022.csv\")\n",
    "train_pd.head()"
   ]
  },
  {
   "cell_type": "code",
   "execution_count": 3,
   "metadata": {},
   "outputs": [
    {
     "name": "stdout",
     "output_type": "stream",
     "text": [
      "[584, 501, 1777, 3192, 167, 2424]\n"
     ]
    }
   ],
   "source": [
    "labels = ['population','intervention','background','outcome','study design','other']\n",
    "label_counts = []\n",
    "for l in labels:\n",
    "    counts = train_pd[l].sum()\n",
    "    label_counts.append(counts)\n",
    "print(label_counts)"
   ]
  },
  {
   "cell_type": "code",
   "execution_count": 4,
   "metadata": {},
   "outputs": [
    {
     "data": {
      "image/png": "[encoded data removed]",
      "text/plain": [
       "<Figure size 864x432 with 1 Axes>"
      ]
     },
     "metadata": {
      "needs_background": "light"
     },
     "output_type": "display_data"
    }
   ],
   "source": [
    "plt.figure(figsize=(12,6))\n",
    "plt.bar(range(6), label_counts)\n",
    "plt.xticks(range(6), labels)\n",
    "plt.show()"
   ]
  },
  {
   "cell_type": "code",
   "execution_count": 5,
   "metadata": {},
   "outputs": [
    {
     "data": {
      "text/plain": [
       "8216"
      ]
     },
     "execution_count": 5,
     "metadata": {},
     "output_type": "execute_result"
    }
   ],
   "source": [
    "n=len(train_pd)\n",
    "n"
   ]
  },
  {
   "cell_type": "markdown",
   "metadata": {},
   "source": [
    "## Naive Bayes\n",
    "\n",
    "The following code trains a separate Naive Bayes classifier for each label. "
   ]
  },
  {
   "cell_type": "code",
   "execution_count": 6,
   "metadata": {},
   "outputs": [],
   "source": [
    "from sklearn.feature_extraction.text import TfidfVectorizer\n",
    "from sklearn.naive_bayes import MultinomialNB\n",
    "\n",
    "labels = ['population','intervention','background','outcome','study design','other']\n",
    "nb = dict()\n",
    "\n",
    "tfidf = TfidfVectorizer(input='contents', max_features=10000)\n",
    "train_tfidf = tfidf.fit_transform(train_pd['Text'])\n",
    "\n",
    "\n",
    "for l in labels:\n",
    "    nb[l] = MultinomialNB()\n",
    "    nb[l].fit(train_tfidf, train_pd[l])\n",
    " "
   ]
  },
  {
   "cell_type": "markdown",
   "metadata": {},
   "source": [
    "The following code applies the Naive Bayes models to the test data, and saves the result in a CSV file for submission."
   ]
  },
  {
   "cell_type": "code",
   "execution_count": 7,
   "metadata": {},
   "outputs": [
    {
     "data": {
      "text/html": [
       "<div>\n",
       "<style scoped>\n",
       "    .dataframe tbody tr th:only-of-type {\n",
       "        vertical-align: middle;\n",
       "    }\n",
       "\n",
       "    .dataframe tbody tr th {\n",
       "        vertical-align: top;\n",
       "    }\n",
       "\n",
       "    .dataframe thead th {\n",
       "        text-align: right;\n",
       "    }\n",
       "</style>\n",
       "<table border=\"1\" class=\"dataframe\">\n",
       "  <thead>\n",
       "    <tr style=\"text-align: right;\">\n",
       "      <th></th>\n",
       "      <th>Document</th>\n",
       "      <th>Sentence</th>\n",
       "      <th>population</th>\n",
       "      <th>intervention</th>\n",
       "      <th>background</th>\n",
       "      <th>outcome</th>\n",
       "      <th>study design</th>\n",
       "      <th>other</th>\n",
       "      <th>Text</th>\n",
       "    </tr>\n",
       "  </thead>\n",
       "  <tbody>\n",
       "    <tr>\n",
       "      <th>0</th>\n",
       "      <td>2545507</td>\n",
       "      <td>1</td>\n",
       "      <td>NaN</td>\n",
       "      <td>NaN</td>\n",
       "      <td>NaN</td>\n",
       "      <td>NaN</td>\n",
       "      <td>NaN</td>\n",
       "      <td>NaN</td>\n",
       "      <td>1</td>\n",
       "    </tr>\n",
       "    <tr>\n",
       "      <th>1</th>\n",
       "      <td>2545507</td>\n",
       "      <td>2</td>\n",
       "      <td>NaN</td>\n",
       "      <td>NaN</td>\n",
       "      <td>NaN</td>\n",
       "      <td>NaN</td>\n",
       "      <td>NaN</td>\n",
       "      <td>NaN</td>\n",
       "      <td>Field electrical stimulation elicited an incre...</td>\n",
       "    </tr>\n",
       "    <tr>\n",
       "      <th>2</th>\n",
       "      <td>2545507</td>\n",
       "      <td>3</td>\n",
       "      <td>NaN</td>\n",
       "      <td>NaN</td>\n",
       "      <td>NaN</td>\n",
       "      <td>NaN</td>\n",
       "      <td>NaN</td>\n",
       "      <td>NaN</td>\n",
       "      <td>2</td>\n",
       "    </tr>\n",
       "    <tr>\n",
       "      <th>3</th>\n",
       "      <td>2545507</td>\n",
       "      <td>4</td>\n",
       "      <td>NaN</td>\n",
       "      <td>NaN</td>\n",
       "      <td>NaN</td>\n",
       "      <td>NaN</td>\n",
       "      <td>NaN</td>\n",
       "      <td>NaN</td>\n",
       "      <td>This efflux was: (a) reduced by clonidine, NA ...</td>\n",
       "    </tr>\n",
       "    <tr>\n",
       "      <th>4</th>\n",
       "      <td>2545507</td>\n",
       "      <td>5</td>\n",
       "      <td>NaN</td>\n",
       "      <td>NaN</td>\n",
       "      <td>NaN</td>\n",
       "      <td>NaN</td>\n",
       "      <td>NaN</td>\n",
       "      <td>NaN</td>\n",
       "      <td>3</td>\n",
       "    </tr>\n",
       "  </tbody>\n",
       "</table>\n",
       "</div>"
      ],
      "text/plain": [
       "   Document  Sentence  population  intervention  background  outcome  \\\n",
       "0   2545507         1         NaN           NaN         NaN      NaN   \n",
       "1   2545507         2         NaN           NaN         NaN      NaN   \n",
       "2   2545507         3         NaN           NaN         NaN      NaN   \n",
       "3   2545507         4         NaN           NaN         NaN      NaN   \n",
       "4   2545507         5         NaN           NaN         NaN      NaN   \n",
       "\n",
       "   study design  other                                               Text  \n",
       "0           NaN    NaN                                                  1  \n",
       "1           NaN    NaN  Field electrical stimulation elicited an incre...  \n",
       "2           NaN    NaN                                                  2  \n",
       "3           NaN    NaN  This efflux was: (a) reduced by clonidine, NA ...  \n",
       "4           NaN    NaN                                                  3  "
      ]
     },
     "execution_count": 7,
     "metadata": {},
     "output_type": "execute_result"
    }
   ],
   "source": [
    "test_pd = pd.read_csv(\"val_2022.csv\")\n",
    "test_pd.head()"
   ]
  },
  {
   "cell_type": "code",
   "execution_count": 8,
   "metadata": {},
   "outputs": [
    {
     "data": {
      "text/html": [
       "<div>\n",
       "<style scoped>\n",
       "    .dataframe tbody tr th:only-of-type {\n",
       "        vertical-align: middle;\n",
       "    }\n",
       "\n",
       "    .dataframe tbody tr th {\n",
       "        vertical-align: top;\n",
       "    }\n",
       "\n",
       "    .dataframe thead th {\n",
       "        text-align: right;\n",
       "    }\n",
       "</style>\n",
       "<table border=\"1\" class=\"dataframe\">\n",
       "  <thead>\n",
       "    <tr style=\"text-align: right;\">\n",
       "      <th></th>\n",
       "      <th>Document</th>\n",
       "      <th>Sentence</th>\n",
       "      <th>population</th>\n",
       "      <th>intervention</th>\n",
       "      <th>background</th>\n",
       "      <th>outcome</th>\n",
       "      <th>study design</th>\n",
       "      <th>other</th>\n",
       "      <th>Text</th>\n",
       "    </tr>\n",
       "  </thead>\n",
       "  <tbody>\n",
       "    <tr>\n",
       "      <th>0</th>\n",
       "      <td>2545507</td>\n",
       "      <td>1</td>\n",
       "      <td>0.071081</td>\n",
       "      <td>0.060979</td>\n",
       "      <td>0.216285</td>\n",
       "      <td>0.388510</td>\n",
       "      <td>0.020326</td>\n",
       "      <td>0.295034</td>\n",
       "      <td>1</td>\n",
       "    </tr>\n",
       "    <tr>\n",
       "      <th>1</th>\n",
       "      <td>2545507</td>\n",
       "      <td>2</td>\n",
       "      <td>0.050553</td>\n",
       "      <td>0.042924</td>\n",
       "      <td>0.285558</td>\n",
       "      <td>0.451349</td>\n",
       "      <td>0.006784</td>\n",
       "      <td>0.091610</td>\n",
       "      <td>Field electrical stimulation elicited an incre...</td>\n",
       "    </tr>\n",
       "    <tr>\n",
       "      <th>2</th>\n",
       "      <td>2545507</td>\n",
       "      <td>3</td>\n",
       "      <td>0.071081</td>\n",
       "      <td>0.060979</td>\n",
       "      <td>0.216285</td>\n",
       "      <td>0.388510</td>\n",
       "      <td>0.020326</td>\n",
       "      <td>0.295034</td>\n",
       "      <td>2</td>\n",
       "    </tr>\n",
       "    <tr>\n",
       "      <th>3</th>\n",
       "      <td>2545507</td>\n",
       "      <td>4</td>\n",
       "      <td>0.009772</td>\n",
       "      <td>0.021176</td>\n",
       "      <td>0.072508</td>\n",
       "      <td>0.658349</td>\n",
       "      <td>0.000844</td>\n",
       "      <td>0.033827</td>\n",
       "      <td>This efflux was: (a) reduced by clonidine, NA ...</td>\n",
       "    </tr>\n",
       "    <tr>\n",
       "      <th>4</th>\n",
       "      <td>2545507</td>\n",
       "      <td>5</td>\n",
       "      <td>0.071081</td>\n",
       "      <td>0.060979</td>\n",
       "      <td>0.216285</td>\n",
       "      <td>0.388510</td>\n",
       "      <td>0.020326</td>\n",
       "      <td>0.295034</td>\n",
       "      <td>3</td>\n",
       "    </tr>\n",
       "  </tbody>\n",
       "</table>\n",
       "</div>"
      ],
      "text/plain": [
       "   Document  Sentence  population  intervention  background   outcome  \\\n",
       "0   2545507         1    0.071081      0.060979    0.216285  0.388510   \n",
       "1   2545507         2    0.050553      0.042924    0.285558  0.451349   \n",
       "2   2545507         3    0.071081      0.060979    0.216285  0.388510   \n",
       "3   2545507         4    0.009772      0.021176    0.072508  0.658349   \n",
       "4   2545507         5    0.071081      0.060979    0.216285  0.388510   \n",
       "\n",
       "   study design     other                                               Text  \n",
       "0      0.020326  0.295034                                                  1  \n",
       "1      0.006784  0.091610  Field electrical stimulation elicited an incre...  \n",
       "2      0.020326  0.295034                                                  2  \n",
       "3      0.000844  0.033827  This efflux was: (a) reduced by clonidine, NA ...  \n",
       "4      0.020326  0.295034                                                  3  "
      ]
     },
     "execution_count": 8,
     "metadata": {},
     "output_type": "execute_result"
    }
   ],
   "source": [
    "test_tfidf = tfidf.transform(test_pd['Text'])\n",
    "\n",
    "for l in labels:\n",
    "    test_probabilities = [p[1] for p in nb[l].predict_proba(test_tfidf)]\n",
    "    test_pd[l] = test_probabilities\n",
    "test_pd.head()"
   ]
  },
  {
   "cell_type": "code",
   "execution_count": 9,
   "metadata": {},
   "outputs": [],
   "source": [
    "test_pd.to_csv('nb_val_2022_probabilities.csv', index=False)"
   ]
  },
  {
   "cell_type": "code",
   "execution_count": 10,
   "metadata": {},
   "outputs": [
    {
     "data": {
      "text/plain": [
       "<matplotlib.axes._subplots.AxesSubplot at 0x7efcfee3ab50>"
      ]
     },
     "execution_count": 10,
     "metadata": {},
     "output_type": "execute_result"
    },
    {
     "data": {
      "image/png": "[encoded data removed]",
      "text/plain": [
       "<Figure size 432x288 with 1 Axes>"
      ]
     },
     "metadata": {
      "needs_background": "light"
     },
     "output_type": "display_data"
    }
   ],
   "source": [
    "test_pd.boxplot(column=labels)"
   ]
  },
  {
   "cell_type": "code",
   "execution_count": null,
   "metadata": {},
   "outputs": [],
   "source": []
  }
 ],
 "metadata": {
  "kernelspec": {
   "display_name": "Python 3.8.3 ('base')",
   "language": "python",
   "name": "python3"
  },
  "language_info": {
   "codemirror_mode": {
    "name": "ipython",
    "version": 3
   },
   "file_extension": ".py",
   "mimetype": "text/x-python",
   "name": "python",
   "nbconvert_exporter": "python",
   "pygments_lexer": "ipython3",
   "version": "3.8.3"
  },
  "orig_nbformat": 4,
  "vscode": {
   "interpreter": {
    "hash": "c9c95a542e0787f57613780817cff22e65fe979e702b6d9a424a45d54043f1a4"
   }
  }
 },
 "nbformat": 4,
 "nbformat_minor": 2
}
