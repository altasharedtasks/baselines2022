{
 "cells": [
  {
   "cell_type": "markdown",
   "metadata": {},
   "source": [
    "# Naive Bayes baseline"
   ]
  },
  {
   "cell_type": "code",
   "execution_count": 1,
   "metadata": {},
   "outputs": [],
   "source": [
    "%matplotlib inline\n",
    "import pandas as pd\n",
    "from matplotlib import pyplot as plt"
   ]
  },
  {
   "cell_type": "code",
   "execution_count": 2,
   "metadata": {},
   "outputs": [
    {
     "data": {
      "text/html": [
       "<div>\n",
       "<style scoped>\n",
       "    .dataframe tbody tr th:only-of-type {\n",
       "        vertical-align: middle;\n",
       "    }\n",
       "\n",
       "    .dataframe tbody tr th {\n",
       "        vertical-align: top;\n",
       "    }\n",
       "\n",
       "    .dataframe thead th {\n",
       "        text-align: right;\n",
       "    }\n",
       "</style>\n",
       "<table border=\"1\" class=\"dataframe\">\n",
       "  <thead>\n",
       "    <tr style=\"text-align: right;\">\n",
       "      <th></th>\n",
       "      <th>Document</th>\n",
       "      <th>Sentence</th>\n",
       "      <th>population</th>\n",
       "      <th>intervention</th>\n",
       "      <th>background</th>\n",
       "      <th>outcome</th>\n",
       "      <th>study design</th>\n",
       "      <th>other</th>\n",
       "      <th>Text</th>\n",
       "    </tr>\n",
       "  </thead>\n",
       "  <tbody>\n",
       "    <tr>\n",
       "      <th>0</th>\n",
       "      <td>145506</td>\n",
       "      <td>1</td>\n",
       "      <td>0</td>\n",
       "      <td>0</td>\n",
       "      <td>1</td>\n",
       "      <td>0</td>\n",
       "      <td>0</td>\n",
       "      <td>0</td>\n",
       "      <td>The rare liquor leakage syndrome with cranial ...</td>\n",
       "    </tr>\n",
       "    <tr>\n",
       "      <th>1</th>\n",
       "      <td>145506</td>\n",
       "      <td>2</td>\n",
       "      <td>0</td>\n",
       "      <td>0</td>\n",
       "      <td>1</td>\n",
       "      <td>0</td>\n",
       "      <td>0</td>\n",
       "      <td>0</td>\n",
       "      <td>This does not occur after a suboccipital punct...</td>\n",
       "    </tr>\n",
       "    <tr>\n",
       "      <th>2</th>\n",
       "      <td>145506</td>\n",
       "      <td>3</td>\n",
       "      <td>1</td>\n",
       "      <td>0</td>\n",
       "      <td>0</td>\n",
       "      <td>0</td>\n",
       "      <td>0</td>\n",
       "      <td>0</td>\n",
       "      <td>A report is given on three cases with differen...</td>\n",
       "    </tr>\n",
       "    <tr>\n",
       "      <th>3</th>\n",
       "      <td>145506</td>\n",
       "      <td>4</td>\n",
       "      <td>0</td>\n",
       "      <td>0</td>\n",
       "      <td>0</td>\n",
       "      <td>1</td>\n",
       "      <td>0</td>\n",
       "      <td>0</td>\n",
       "      <td>The prognosis of the eye-muscle paresis is good.</td>\n",
       "    </tr>\n",
       "    <tr>\n",
       "      <th>4</th>\n",
       "      <td>145506</td>\n",
       "      <td>5</td>\n",
       "      <td>0</td>\n",
       "      <td>0</td>\n",
       "      <td>0</td>\n",
       "      <td>1</td>\n",
       "      <td>0</td>\n",
       "      <td>0</td>\n",
       "      <td>Restitutio ad integrum resulted.</td>\n",
       "    </tr>\n",
       "  </tbody>\n",
       "</table>\n",
       "</div>"
      ],
      "text/plain": [
       "   Document  Sentence  population  intervention  background  outcome  \\\n",
       "0    145506         1           0             0           1        0   \n",
       "1    145506         2           0             0           1        0   \n",
       "2    145506         3           1             0           0        0   \n",
       "3    145506         4           0             0           0        1   \n",
       "4    145506         5           0             0           0        1   \n",
       "\n",
       "   study design  other                                               Text  \n",
       "0             0      0  The rare liquor leakage syndrome with cranial ...  \n",
       "1             0      0  This does not occur after a suboccipital punct...  \n",
       "2             0      0  A report is given on three cases with differen...  \n",
       "3             0      0   The prognosis of the eye-muscle paresis is good.  \n",
       "4             0      0                   Restitutio ad integrum resulted.  "
      ]
     },
     "execution_count": 2,
     "metadata": {},
     "output_type": "execute_result"
    }
   ],
   "source": [
    "train_pd = pd.read_csv(\"train_2022.csv\")\n",
    "train_pd.head()"
   ]
  },
  {
   "cell_type": "code",
   "execution_count": 3,
   "metadata": {},
   "outputs": [
    {
     "name": "stdout",
     "output_type": "stream",
     "text": [
      "[584, 501, 1777, 3192, 167, 2424]\n"
     ]
    }
   ],
   "source": [
    "labels = ['population','intervention','background','outcome','study design','other']\n",
    "label_counts = []\n",
    "for l in labels:\n",
    "    counts = train_pd[l].sum()\n",
    "    label_counts.append(counts)\n",
    "print(label_counts)"
   ]
  },
  {
   "cell_type": "code",
   "execution_count": 4,
   "metadata": {},
   "outputs": [
    {
     "data": {
      "image/png": "[encoded data removed]",
      "text/plain": [
       "<Figure size 864x432 with 1 Axes>"
      ]
     },
     "metadata": {
      "needs_background": "light"
     },
     "output_type": "display_data"
    }
   ],
   "source": [
    "plt.figure(figsize=(12,6))\n",
    "plt.bar(range(6), label_counts)\n",
    "plt.xticks(range(6), labels)\n",
    "plt.show()"
   ]
  },
  {
   "cell_type": "code",
   "execution_count": 5,
   "metadata": {},
   "outputs": [
    {
     "data": {
      "text/plain": [
       "8216"
      ]
     },
     "execution_count": 5,
     "metadata": {},
     "output_type": "execute_result"
    }
   ],
   "source": [
    "n=len(train_pd)\n",
    "n"
   ]
  },
  {
   "cell_type": "markdown",
   "metadata": {},
   "source": [
    "## Naive Bayes\n",
    "\n",
    "The following code trains a separate Naive Bayes classifier for each label. "
   ]
  },
  {
   "cell_type": "code",
   "execution_count": 6,
   "metadata": {},
   "outputs": [],
   "source": [
    "from sklearn.feature_extraction.text import TfidfVectorizer\n",
    "from sklearn.naive_bayes import MultinomialNB\n",
    "\n",
    "labels = ['population','intervention','background','outcome','study design','other']\n",
    "nb = dict()\n",
    "\n",
    "tfidf = TfidfVectorizer(input='contents', max_features=10000)\n",
    "train_tfidf = tfidf.fit_transform(train_pd['Text'])\n",
    "\n",
    "\n",
    "for l in labels:\n",
    "    nb[l] = MultinomialNB()\n",
    "    nb[l].fit(train_tfidf, train_pd[l])\n",
    " "
   ]
  },
  {
   "cell_type": "markdown",
   "metadata": {},
   "source": [
    "The following code applies the Naive Bayes models to the validation data, and saves the result in a CSV file for submission."
   ]
  },
  {
   "cell_type": "code",
   "execution_count": 7,
   "metadata": {},
   "outputs": [
    {
     "data": {
      "text/html": [
       "<div>\n",
       "<style scoped>\n",
       "    .dataframe tbody tr th:only-of-type {\n",
       "        vertical-align: middle;\n",
       "    }\n",
       "\n",
       "    .dataframe tbody tr th {\n",
       "        vertical-align: top;\n",
       "    }\n",
       "\n",
       "    .dataframe thead th {\n",
       "        text-align: right;\n",
       "    }\n",
       "</style>\n",
       "<table border=\"1\" class=\"dataframe\">\n",
       "  <thead>\n",
       "    <tr style=\"text-align: right;\">\n",
       "      <th></th>\n",
       "      <th>Document</th>\n",
       "      <th>Sentence</th>\n",
       "      <th>population</th>\n",
       "      <th>intervention</th>\n",
       "      <th>background</th>\n",
       "      <th>outcome</th>\n",
       "      <th>study design</th>\n",
       "      <th>other</th>\n",
       "      <th>Text</th>\n",
       "    </tr>\n",
       "  </thead>\n",
       "  <tbody>\n",
       "    <tr>\n",
       "      <th>0</th>\n",
       "      <td>2545507</td>\n",
       "      <td>1</td>\n",
       "      <td>NaN</td>\n",
       "      <td>NaN</td>\n",
       "      <td>NaN</td>\n",
       "      <td>NaN</td>\n",
       "      <td>NaN</td>\n",
       "      <td>NaN</td>\n",
       "      <td>1</td>\n",
       "    </tr>\n",
       "    <tr>\n",
       "      <th>1</th>\n",
       "      <td>2545507</td>\n",
       "      <td>2</td>\n",
       "      <td>NaN</td>\n",
       "      <td>NaN</td>\n",
       "      <td>NaN</td>\n",
       "      <td>NaN</td>\n",
       "      <td>NaN</td>\n",
       "      <td>NaN</td>\n",
       "      <td>Field electrical stimulation elicited an incre...</td>\n",
       "    </tr>\n",
       "    <tr>\n",
       "      <th>2</th>\n",
       "      <td>2545507</td>\n",
       "      <td>3</td>\n",
       "      <td>NaN</td>\n",
       "      <td>NaN</td>\n",
       "      <td>NaN</td>\n",
       "      <td>NaN</td>\n",
       "      <td>NaN</td>\n",
       "      <td>NaN</td>\n",
       "      <td>2</td>\n",
       "    </tr>\n",
       "    <tr>\n",
       "      <th>3</th>\n",
       "      <td>2545507</td>\n",
       "      <td>4</td>\n",
       "      <td>NaN</td>\n",
       "      <td>NaN</td>\n",
       "      <td>NaN</td>\n",
       "      <td>NaN</td>\n",
       "      <td>NaN</td>\n",
       "      <td>NaN</td>\n",
       "      <td>This efflux was: (a) reduced by clonidine, NA ...</td>\n",
       "    </tr>\n",
       "    <tr>\n",
       "      <th>4</th>\n",
       "      <td>2545507</td>\n",
       "      <td>5</td>\n",
       "      <td>NaN</td>\n",
       "      <td>NaN</td>\n",
       "      <td>NaN</td>\n",
       "      <td>NaN</td>\n",
       "      <td>NaN</td>\n",
       "      <td>NaN</td>\n",
       "      <td>3</td>\n",
       "    </tr>\n",
       "  </tbody>\n",
       "</table>\n",
       "</div>"
      ],
      "text/plain": [
       "   Document  Sentence  population  intervention  background  outcome  \\\n",
       "0   2545507         1         NaN           NaN         NaN      NaN   \n",
       "1   2545507         2         NaN           NaN         NaN      NaN   \n",
       "2   2545507         3         NaN           NaN         NaN      NaN   \n",
       "3   2545507         4         NaN           NaN         NaN      NaN   \n",
       "4   2545507         5         NaN           NaN         NaN      NaN   \n",
       "\n",
       "   study design  other                                               Text  \n",
       "0           NaN    NaN                                                  1  \n",
       "1           NaN    NaN  Field electrical stimulation elicited an incre...  \n",
       "2           NaN    NaN                                                  2  \n",
       "3           NaN    NaN  This efflux was: (a) reduced by clonidine, NA ...  \n",
       "4           NaN    NaN                                                  3  "
      ]
     },
     "execution_count": 7,
     "metadata": {},
     "output_type": "execute_result"
    }
   ],
   "source": [
    "test_pd = pd.read_csv(\"val_2022.csv\")\n",
    "test_pd.head()"
   ]
  },
  {
   "cell_type": "code",
   "execution_count": 8,
   "metadata": {},
   "outputs": [
    {
     "data": {
      "text/html": [
       "<div>\n",
       "<style scoped>\n",
       "    .dataframe tbody tr th:only-of-type {\n",
       "        vertical-align: middle;\n",
       "    }\n",
       "\n",
       "    .dataframe tbody tr th {\n",
       "        vertical-align: top;\n",
       "    }\n",
       "\n",
       "    .dataframe thead th {\n",
       "        text-align: right;\n",
       "    }\n",
       "</style>\n",
       "<table border=\"1\" class=\"dataframe\">\n",
       "  <thead>\n",
       "    <tr style=\"text-align: right;\">\n",
       "      <th></th>\n",
       "      <th>Document</th>\n",
       "      <th>Sentence</th>\n",
       "      <th>population</th>\n",
       "      <th>intervention</th>\n",
       "      <th>background</th>\n",
       "      <th>outcome</th>\n",
       "      <th>study design</th>\n",
       "      <th>other</th>\n",
       "      <th>Text</th>\n",
       "    </tr>\n",
       "  </thead>\n",
       "  <tbody>\n",
       "    <tr>\n",
       "      <th>0</th>\n",
       "      <td>2545507</td>\n",
       "      <td>1</td>\n",
       "      <td>0.071081</td>\n",
       "      <td>0.060979</td>\n",
       "      <td>0.216285</td>\n",
       "      <td>0.388510</td>\n",
       "      <td>0.020326</td>\n",
       "      <td>0.295034</td>\n",
       "      <td>1</td>\n",
       "    </tr>\n",
       "    <tr>\n",
       "      <th>1</th>\n",
       "      <td>2545507</td>\n",
       "      <td>2</td>\n",
       "      <td>0.051527</td>\n",
       "      <td>0.043599</td>\n",
       "      <td>0.291136</td>\n",
       "      <td>0.446462</td>\n",
       "      <td>0.006908</td>\n",
       "      <td>0.092019</td>\n",
       "      <td>Field electrical stimulation elicited an incre...</td>\n",
       "    </tr>\n",
       "    <tr>\n",
       "      <th>2</th>\n",
       "      <td>2545507</td>\n",
       "      <td>3</td>\n",
       "      <td>0.071081</td>\n",
       "      <td>0.060979</td>\n",
       "      <td>0.216285</td>\n",
       "      <td>0.388510</td>\n",
       "      <td>0.020326</td>\n",
       "      <td>0.295034</td>\n",
       "      <td>2</td>\n",
       "    </tr>\n",
       "    <tr>\n",
       "      <th>3</th>\n",
       "      <td>2545507</td>\n",
       "      <td>4</td>\n",
       "      <td>0.009718</td>\n",
       "      <td>0.018502</td>\n",
       "      <td>0.071952</td>\n",
       "      <td>0.689577</td>\n",
       "      <td>0.000747</td>\n",
       "      <td>0.033663</td>\n",
       "      <td>This efflux was: (a) reduced by clonidine, NA ...</td>\n",
       "    </tr>\n",
       "    <tr>\n",
       "      <th>4</th>\n",
       "      <td>2545507</td>\n",
       "      <td>5</td>\n",
       "      <td>0.071081</td>\n",
       "      <td>0.060979</td>\n",
       "      <td>0.216285</td>\n",
       "      <td>0.388510</td>\n",
       "      <td>0.020326</td>\n",
       "      <td>0.295034</td>\n",
       "      <td>3</td>\n",
       "    </tr>\n",
       "  </tbody>\n",
       "</table>\n",
       "</div>"
      ],
      "text/plain": [
       "   Document  Sentence  population  intervention  background   outcome  \\\n",
       "0   2545507         1    0.071081      0.060979    0.216285  0.388510   \n",
       "1   2545507         2    0.051527      0.043599    0.291136  0.446462   \n",
       "2   2545507         3    0.071081      0.060979    0.216285  0.388510   \n",
       "3   2545507         4    0.009718      0.018502    0.071952  0.689577   \n",
       "4   2545507         5    0.071081      0.060979    0.216285  0.388510   \n",
       "\n",
       "   study design     other                                               Text  \n",
       "0      0.020326  0.295034                                                  1  \n",
       "1      0.006908  0.092019  Field electrical stimulation elicited an incre...  \n",
       "2      0.020326  0.295034                                                  2  \n",
       "3      0.000747  0.033663  This efflux was: (a) reduced by clonidine, NA ...  \n",
       "4      0.020326  0.295034                                                  3  "
      ]
     },
     "execution_count": 8,
     "metadata": {},
     "output_type": "execute_result"
    }
   ],
   "source": [
    "test_tfidf = tfidf.transform(test_pd['Text'])\n",
    "\n",
    "for l in labels:\n",
    "    test_probabilities = [p[1] for p in nb[l].predict_proba(test_tfidf)]\n",
    "    test_pd[l] = test_probabilities\n",
    "test_pd.head()"
   ]
  },
  {
   "cell_type": "code",
   "execution_count": 9,
   "metadata": {},
   "outputs": [],
   "source": [
    "test_pd.to_csv('nb_val_2022_probabilities.csv', index=False)"
   ]
  },
  {
   "cell_type": "code",
   "execution_count": 10,
   "metadata": {},
   "outputs": [
    {
     "data": {
      "text/plain": [
       "<AxesSubplot:>"
      ]
     },
     "execution_count": 10,
     "metadata": {},
     "output_type": "execute_result"
    },
    {
     "data": {
      "image/png": "[encoded data removed]",
      "text/plain": [
       "<Figure size 432x288 with 1 Axes>"
      ]
     },
     "metadata": {
      "needs_background": "light"
     },
     "output_type": "display_data"
    }
   ],
   "source": [
    "test_pd.boxplot(column=labels)"
   ]
  },
  {
   "cell_type": "markdown",
   "metadata": {},
   "source": [
    "And here is for the test data"
   ]
  },
  {
   "cell_type": "code",
   "execution_count": 11,
   "metadata": {},
   "outputs": [
    {
     "data": {
      "text/html": [
       "<div>\n",
       "<style scoped>\n",
       "    .dataframe tbody tr th:only-of-type {\n",
       "        vertical-align: middle;\n",
       "    }\n",
       "\n",
       "    .dataframe tbody tr th {\n",
       "        vertical-align: top;\n",
       "    }\n",
       "\n",
       "    .dataframe thead th {\n",
       "        text-align: right;\n",
       "    }\n",
       "</style>\n",
       "<table border=\"1\" class=\"dataframe\">\n",
       "  <thead>\n",
       "    <tr style=\"text-align: right;\">\n",
       "      <th></th>\n",
       "      <th>Document</th>\n",
       "      <th>Sentence</th>\n",
       "      <th>population</th>\n",
       "      <th>intervention</th>\n",
       "      <th>background</th>\n",
       "      <th>outcome</th>\n",
       "      <th>study design</th>\n",
       "      <th>other</th>\n",
       "      <th>Text</th>\n",
       "    </tr>\n",
       "  </thead>\n",
       "  <tbody>\n",
       "    <tr>\n",
       "      <th>0</th>\n",
       "      <td>1079261</td>\n",
       "      <td>1</td>\n",
       "      <td>NaN</td>\n",
       "      <td>NaN</td>\n",
       "      <td>NaN</td>\n",
       "      <td>NaN</td>\n",
       "      <td>NaN</td>\n",
       "      <td>NaN</td>\n",
       "      <td>The 14th myelographically demonstrated case of...</td>\n",
       "    </tr>\n",
       "    <tr>\n",
       "      <th>1</th>\n",
       "      <td>1079261</td>\n",
       "      <td>2</td>\n",
       "      <td>NaN</td>\n",
       "      <td>NaN</td>\n",
       "      <td>NaN</td>\n",
       "      <td>NaN</td>\n",
       "      <td>NaN</td>\n",
       "      <td>NaN</td>\n",
       "      <td>In most cases lumbosacral nerve root avulsion ...</td>\n",
       "    </tr>\n",
       "    <tr>\n",
       "      <th>2</th>\n",
       "      <td>1079261</td>\n",
       "      <td>3</td>\n",
       "      <td>NaN</td>\n",
       "      <td>NaN</td>\n",
       "      <td>NaN</td>\n",
       "      <td>NaN</td>\n",
       "      <td>NaN</td>\n",
       "      <td>NaN</td>\n",
       "      <td>This force causes nerve root avulsion in the i...</td>\n",
       "    </tr>\n",
       "    <tr>\n",
       "      <th>3</th>\n",
       "      <td>1079261</td>\n",
       "      <td>4</td>\n",
       "      <td>NaN</td>\n",
       "      <td>NaN</td>\n",
       "      <td>NaN</td>\n",
       "      <td>NaN</td>\n",
       "      <td>NaN</td>\n",
       "      <td>NaN</td>\n",
       "      <td>The myelographic defect is a pseudomeningocele...</td>\n",
       "    </tr>\n",
       "    <tr>\n",
       "      <th>4</th>\n",
       "      <td>1079261</td>\n",
       "      <td>5</td>\n",
       "      <td>NaN</td>\n",
       "      <td>NaN</td>\n",
       "      <td>NaN</td>\n",
       "      <td>NaN</td>\n",
       "      <td>NaN</td>\n",
       "      <td>NaN</td>\n",
       "      <td>Myelography clearly indicates nerve root avuls...</td>\n",
       "    </tr>\n",
       "  </tbody>\n",
       "</table>\n",
       "</div>"
      ],
      "text/plain": [
       "   Document  Sentence  population  intervention  background  outcome  \\\n",
       "0   1079261         1         NaN           NaN         NaN      NaN   \n",
       "1   1079261         2         NaN           NaN         NaN      NaN   \n",
       "2   1079261         3         NaN           NaN         NaN      NaN   \n",
       "3   1079261         4         NaN           NaN         NaN      NaN   \n",
       "4   1079261         5         NaN           NaN         NaN      NaN   \n",
       "\n",
       "   study design  other                                               Text  \n",
       "0           NaN    NaN  The 14th myelographically demonstrated case of...  \n",
       "1           NaN    NaN  In most cases lumbosacral nerve root avulsion ...  \n",
       "2           NaN    NaN  This force causes nerve root avulsion in the i...  \n",
       "3           NaN    NaN  The myelographic defect is a pseudomeningocele...  \n",
       "4           NaN    NaN  Myelography clearly indicates nerve root avuls...  "
      ]
     },
     "execution_count": 11,
     "metadata": {},
     "output_type": "execute_result"
    }
   ],
   "source": [
    "test_pd = pd.read_csv(\"test_2022.csv\")\n",
    "test_pd.head()"
   ]
  },
  {
   "cell_type": "code",
   "execution_count": 12,
   "metadata": {},
   "outputs": [
    {
     "data": {
      "text/html": [
       "<div>\n",
       "<style scoped>\n",
       "    .dataframe tbody tr th:only-of-type {\n",
       "        vertical-align: middle;\n",
       "    }\n",
       "\n",
       "    .dataframe tbody tr th {\n",
       "        vertical-align: top;\n",
       "    }\n",
       "\n",
       "    .dataframe thead th {\n",
       "        text-align: right;\n",
       "    }\n",
       "</style>\n",
       "<table border=\"1\" class=\"dataframe\">\n",
       "  <thead>\n",
       "    <tr style=\"text-align: right;\">\n",
       "      <th></th>\n",
       "      <th>Document</th>\n",
       "      <th>Sentence</th>\n",
       "      <th>population</th>\n",
       "      <th>intervention</th>\n",
       "      <th>background</th>\n",
       "      <th>outcome</th>\n",
       "      <th>study design</th>\n",
       "      <th>other</th>\n",
       "      <th>Text</th>\n",
       "    </tr>\n",
       "  </thead>\n",
       "  <tbody>\n",
       "    <tr>\n",
       "      <th>0</th>\n",
       "      <td>1079261</td>\n",
       "      <td>1</td>\n",
       "      <td>0.016020</td>\n",
       "      <td>0.006747</td>\n",
       "      <td>0.144014</td>\n",
       "      <td>0.231104</td>\n",
       "      <td>0.000910</td>\n",
       "      <td>0.079992</td>\n",
       "      <td>The 14th myelographically demonstrated case of...</td>\n",
       "    </tr>\n",
       "    <tr>\n",
       "      <th>1</th>\n",
       "      <td>1079261</td>\n",
       "      <td>2</td>\n",
       "      <td>0.010115</td>\n",
       "      <td>0.009179</td>\n",
       "      <td>0.391942</td>\n",
       "      <td>0.219075</td>\n",
       "      <td>0.000392</td>\n",
       "      <td>0.029046</td>\n",
       "      <td>In most cases lumbosacral nerve root avulsion ...</td>\n",
       "    </tr>\n",
       "    <tr>\n",
       "      <th>2</th>\n",
       "      <td>1079261</td>\n",
       "      <td>3</td>\n",
       "      <td>0.023234</td>\n",
       "      <td>0.025979</td>\n",
       "      <td>0.286237</td>\n",
       "      <td>0.320242</td>\n",
       "      <td>0.002623</td>\n",
       "      <td>0.065535</td>\n",
       "      <td>This force causes nerve root avulsion in the i...</td>\n",
       "    </tr>\n",
       "    <tr>\n",
       "      <th>3</th>\n",
       "      <td>1079261</td>\n",
       "      <td>4</td>\n",
       "      <td>0.044821</td>\n",
       "      <td>0.103797</td>\n",
       "      <td>0.293155</td>\n",
       "      <td>0.324936</td>\n",
       "      <td>0.006119</td>\n",
       "      <td>0.204347</td>\n",
       "      <td>The myelographic defect is a pseudomeningocele...</td>\n",
       "    </tr>\n",
       "    <tr>\n",
       "      <th>4</th>\n",
       "      <td>1079261</td>\n",
       "      <td>5</td>\n",
       "      <td>0.025023</td>\n",
       "      <td>0.029721</td>\n",
       "      <td>0.255656</td>\n",
       "      <td>0.540710</td>\n",
       "      <td>0.004981</td>\n",
       "      <td>0.086470</td>\n",
       "      <td>Myelography clearly indicates nerve root avuls...</td>\n",
       "    </tr>\n",
       "  </tbody>\n",
       "</table>\n",
       "</div>"
      ],
      "text/plain": [
       "   Document  Sentence  population  intervention  background   outcome  \\\n",
       "0   1079261         1    0.016020      0.006747    0.144014  0.231104   \n",
       "1   1079261         2    0.010115      0.009179    0.391942  0.219075   \n",
       "2   1079261         3    0.023234      0.025979    0.286237  0.320242   \n",
       "3   1079261         4    0.044821      0.103797    0.293155  0.324936   \n",
       "4   1079261         5    0.025023      0.029721    0.255656  0.540710   \n",
       "\n",
       "   study design     other                                               Text  \n",
       "0      0.000910  0.079992  The 14th myelographically demonstrated case of...  \n",
       "1      0.000392  0.029046  In most cases lumbosacral nerve root avulsion ...  \n",
       "2      0.002623  0.065535  This force causes nerve root avulsion in the i...  \n",
       "3      0.006119  0.204347  The myelographic defect is a pseudomeningocele...  \n",
       "4      0.004981  0.086470  Myelography clearly indicates nerve root avuls...  "
      ]
     },
     "execution_count": 12,
     "metadata": {},
     "output_type": "execute_result"
    }
   ],
   "source": [
    "test_tfidf = tfidf.transform(test_pd['Text'])\n",
    "\n",
    "for l in labels:\n",
    "    test_probabilities = [p[1] for p in nb[l].predict_proba(test_tfidf)]\n",
    "    test_pd[l] = test_probabilities\n",
    "test_pd.head()"
   ]
  },
  {
   "cell_type": "code",
   "execution_count": 13,
   "metadata": {},
   "outputs": [],
   "source": [
    "test_pd.to_csv('nb_test_2022_probabilities.csv', index=False)"
   ]
  },
  {
   "cell_type": "code",
   "execution_count": 14,
   "metadata": {},
   "outputs": [
    {
     "data": {
      "text/plain": [
       "<AxesSubplot:>"
      ]
     },
     "execution_count": 14,
     "metadata": {},
     "output_type": "execute_result"
    },
    {
     "data": {
      "image/png": "[encoded data removed]",
      "text/plain": [
       "<Figure size 432x288 with 1 Axes>"
      ]
     },
     "metadata": {
      "needs_background": "light"
     },
     "output_type": "display_data"
    }
   ],
   "source": [
    "test_pd.boxplot(column=labels)"
   ]
  },
  {
   "cell_type": "code",
   "execution_count": null,
   "metadata": {},
   "outputs": [],
   "source": []
  }
 ],
 "metadata": {
  "kernelspec": {
   "display_name": "Python 3.9.7 ('base')",
   "language": "python",
   "name": "python3"
  },
  "language_info": {
   "codemirror_mode": {
    "name": "ipython",
    "version": 3
   },
   "file_extension": ".py",
   "mimetype": "text/x-python",
   "name": "python",
   "nbconvert_exporter": "python",
   "pygments_lexer": "ipython3",
   "version": "3.9.7"
  },
  "orig_nbformat": 4,
  "vscode": {
   "interpreter": {
    "hash": "360f462d1a46369b9df5b768eee0abeab9450f4d5330d465a4ab5241d206bf28"
   }
  }
 },
 "nbformat": 4,
 "nbformat_minor": 2
}
